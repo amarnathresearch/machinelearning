{
 "cells": [
  {
   "cell_type": "code",
   "execution_count": 21,
   "metadata": {},
   "outputs": [],
   "source": [
    "import pandas as pd\n",
    "from matplotlib import pyplot as plt\n",
    "import seaborn as sns"
   ]
  },
  {
   "cell_type": "code",
   "execution_count": 71,
   "metadata": {},
   "outputs": [
    {
     "data": {
      "text/html": [
       "<div>\n",
       "<style scoped>\n",
       "    .dataframe tbody tr th:only-of-type {\n",
       "        vertical-align: middle;\n",
       "    }\n",
       "\n",
       "    .dataframe tbody tr th {\n",
       "        vertical-align: top;\n",
       "    }\n",
       "\n",
       "    .dataframe thead th {\n",
       "        text-align: right;\n",
       "    }\n",
       "</style>\n",
       "<table border=\"1\" class=\"dataframe\">\n",
       "  <thead>\n",
       "    <tr style=\"text-align: right;\">\n",
       "      <th></th>\n",
       "      <th>age</th>\n",
       "      <th>bought_insurance</th>\n",
       "    </tr>\n",
       "  </thead>\n",
       "  <tbody>\n",
       "    <tr>\n",
       "      <th>0</th>\n",
       "      <td>22</td>\n",
       "      <td>0</td>\n",
       "    </tr>\n",
       "    <tr>\n",
       "      <th>1</th>\n",
       "      <td>25</td>\n",
       "      <td>0</td>\n",
       "    </tr>\n",
       "    <tr>\n",
       "      <th>2</th>\n",
       "      <td>47</td>\n",
       "      <td>1</td>\n",
       "    </tr>\n",
       "    <tr>\n",
       "      <th>3</th>\n",
       "      <td>52</td>\n",
       "      <td>0</td>\n",
       "    </tr>\n",
       "    <tr>\n",
       "      <th>4</th>\n",
       "      <td>46</td>\n",
       "      <td>1</td>\n",
       "    </tr>\n",
       "  </tbody>\n",
       "</table>\n",
       "</div>"
      ],
      "text/plain": [
       "   age  bought_insurance\n",
       "0   22                 0\n",
       "1   25                 0\n",
       "2   47                 1\n",
       "3   52                 0\n",
       "4   46                 1"
      ]
     },
     "execution_count": 71,
     "metadata": {},
     "output_type": "execute_result"
    }
   ],
   "source": [
    "df = pd.read_csv(\"insurance.csv\")\n",
    "df.head()"
   ]
  },
  {
   "cell_type": "code",
   "execution_count": 72,
   "metadata": {},
   "outputs": [],
   "source": [
    "# Binary class or Two class problem\n"
   ]
  },
  {
   "cell_type": "code",
   "execution_count": 73,
   "metadata": {},
   "outputs": [
    {
     "data": {
      "text/plain": [
       "<matplotlib.collections.PathCollection at 0x7f8aec2aa6a0>"
      ]
     },
     "execution_count": 73,
     "metadata": {},
     "output_type": "execute_result"
    },
    {
     "data": {
      "image/png": "[encoded data removed]",
      "text/plain": [
       "<Figure size 432x288 with 1 Axes>"
      ]
     },
     "metadata": {
      "needs_background": "light"
     },
     "output_type": "display_data"
    }
   ],
   "source": [
    "plt.scatter(df.age,df.bought_insurance,marker='+',color='red')\n"
   ]
  },
  {
   "cell_type": "code",
   "execution_count": 74,
   "metadata": {},
   "outputs": [
    {
     "data": {
      "image/png": "[encoded data removed]",
      "text/plain": [
       "<Figure size 432x288 with 1 Axes>"
      ]
     },
     "metadata": {
      "needs_background": "light"
     },
     "output_type": "display_data"
    }
   ],
   "source": [
    "ax = sns.regplot(x=df.age, y=df.bought_insurance, scatter_kws={\"s\": 80}, data=df,\n",
    "                 order=2, ci=None)"
   ]
  },
  {
   "cell_type": "code",
   "execution_count": 75,
   "metadata": {},
   "outputs": [],
   "source": [
    "from sklearn.model_selection import train_test_split\n"
   ]
  },
  {
   "cell_type": "code",
   "execution_count": 76,
   "metadata": {},
   "outputs": [],
   "source": [
    "X = df.iloc[:, 0].values.reshape(-1, 1)\n",
    "Y = df.iloc[:, 1].values"
   ]
  },
  {
   "cell_type": "code",
   "execution_count": 77,
   "metadata": {},
   "outputs": [
    {
     "data": {
      "text/plain": [
       "array([[22],\n",
       "       [25],\n",
       "       [47],\n",
       "       [52],\n",
       "       [46],\n",
       "       [56],\n",
       "       [55],\n",
       "       [60],\n",
       "       [62],\n",
       "       [61],\n",
       "       [18],\n",
       "       [28],\n",
       "       [27],\n",
       "       [29],\n",
       "       [49],\n",
       "       [55],\n",
       "       [25],\n",
       "       [58],\n",
       "       [19],\n",
       "       [18],\n",
       "       [21],\n",
       "       [26],\n",
       "       [40],\n",
       "       [45],\n",
       "       [50],\n",
       "       [54],\n",
       "       [23]])"
      ]
     },
     "execution_count": 77,
     "metadata": {},
     "output_type": "execute_result"
    }
   ],
   "source": [
    "X"
   ]
  },
  {
   "cell_type": "code",
   "execution_count": 78,
   "metadata": {},
   "outputs": [
    {
     "data": {
      "text/plain": [
       "array([0, 0, 1, 0, 1, 1, 0, 1, 1, 1, 0, 0, 0, 0, 1, 1, 1, 1, 0, 0, 0, 0,\n",
       "       1, 1, 1, 1, 0])"
      ]
     },
     "execution_count": 78,
     "metadata": {},
     "output_type": "execute_result"
    }
   ],
   "source": [
    "Y"
   ]
  },
  {
   "cell_type": "code",
   "execution_count": 79,
   "metadata": {},
   "outputs": [],
   "source": [
    "X_train, X_test, y_train, y_test = train_test_split(X,Y,train_size=0.8)\n"
   ]
  },
  {
   "cell_type": "code",
   "execution_count": 80,
   "metadata": {},
   "outputs": [
    {
     "data": {
      "text/plain": [
       "array([[28],\n",
       "       [60],\n",
       "       [18],\n",
       "       [61],\n",
       "       [55],\n",
       "       [18],\n",
       "       [49],\n",
       "       [56],\n",
       "       [23],\n",
       "       [21],\n",
       "       [26],\n",
       "       [19],\n",
       "       [47],\n",
       "       [25],\n",
       "       [54],\n",
       "       [62],\n",
       "       [45],\n",
       "       [58],\n",
       "       [40],\n",
       "       [29],\n",
       "       [55]])"
      ]
     },
     "execution_count": 80,
     "metadata": {},
     "output_type": "execute_result"
    }
   ],
   "source": [
    "X_train"
   ]
  },
  {
   "cell_type": "code",
   "execution_count": 81,
   "metadata": {},
   "outputs": [
    {
     "data": {
      "text/plain": [
       "array([0, 1, 0, 1, 1, 0, 1, 1, 0, 0, 0, 0, 1, 1, 1, 1, 1, 1, 1, 0, 0])"
      ]
     },
     "execution_count": 81,
     "metadata": {},
     "output_type": "execute_result"
    }
   ],
   "source": [
    "y_train"
   ]
  },
  {
   "cell_type": "code",
   "execution_count": 82,
   "metadata": {},
   "outputs": [],
   "source": [
    "from sklearn.linear_model import LogisticRegression\n",
    "model = LogisticRegression()"
   ]
  },
  {
   "cell_type": "code",
   "execution_count": 83,
   "metadata": {},
   "outputs": [
    {
     "data": {
      "text/plain": [
       "LogisticRegression()"
      ]
     },
     "execution_count": 83,
     "metadata": {},
     "output_type": "execute_result"
    }
   ],
   "source": [
    "model.fit(X_train, y_train)"
   ]
  },
  {
   "cell_type": "code",
   "execution_count": 84,
   "metadata": {},
   "outputs": [
    {
     "data": {
      "text/plain": [
       "array([[27],\n",
       "       [25],\n",
       "       [46],\n",
       "       [52],\n",
       "       [50],\n",
       "       [22]])"
      ]
     },
     "execution_count": 84,
     "metadata": {},
     "output_type": "execute_result"
    }
   ],
   "source": [
    "\n",
    "X_test"
   ]
  },
  {
   "cell_type": "code",
   "execution_count": 85,
   "metadata": {},
   "outputs": [],
   "source": [
    "y_predicted = model.predict(X_test)\n"
   ]
  },
  {
   "cell_type": "code",
   "execution_count": 86,
   "metadata": {},
   "outputs": [],
   "source": [
    "prob = model.predict_proba(X_test)\n",
    "\n",
    "# Try till here----"
   ]
  },
  {
   "cell_type": "code",
   "execution_count": 87,
   "metadata": {},
   "outputs": [
    {
     "name": "stdout",
     "output_type": "stream",
     "text": [
      "Test data Actual  Prob of not getting insu Prob of gett insu\n",
      "[27] 0 0.788 0.212\n",
      "[25] 0 0.831 0.169\n",
      "[46] 1 0.201 0.799\n",
      "[52] 0 0.097 0.903\n",
      "[50] 1 0.125 0.875\n",
      "[22] 0 0.883 0.117\n"
     ]
    }
   ],
   "source": [
    "print('Test data', 'Actual ', 'Prob of not getting insu', 'Prob of gett insu')\n",
    "for i in range(len(prob)):\n",
    "    print(X_test[i], y_test[i], round(prob[i][0],3), round(prob[i][1],3))\n",
    "    "
   ]
  },
  {
   "cell_type": "code",
   "execution_count": 88,
   "metadata": {},
   "outputs": [],
   "source": [
    "# Can we Estimate Linear Regression\n",
    "from sklearn.linear_model import LinearRegression\n",
    "model = LinearRegression()"
   ]
  },
  {
   "cell_type": "code",
   "execution_count": 89,
   "metadata": {},
   "outputs": [
    {
     "data": {
      "text/plain": [
       "LinearRegression()"
      ]
     },
     "execution_count": 89,
     "metadata": {},
     "output_type": "execute_result"
    }
   ],
   "source": [
    "model.fit(X_train, y_train)"
   ]
  },
  {
   "cell_type": "code",
   "execution_count": 90,
   "metadata": {},
   "outputs": [],
   "source": [
    "y_predicted_linear = model.predict(X_test)"
   ]
  },
  {
   "cell_type": "code",
   "execution_count": 91,
   "metadata": {},
   "outputs": [
    {
     "data": {
      "text/plain": [
       "array([0.25869394, 0.21211644, 0.70118017, 0.84091267, 0.79433517,\n",
       "       0.1422502 ])"
      ]
     },
     "execution_count": 91,
     "metadata": {},
     "output_type": "execute_result"
    }
   ],
   "source": [
    "y_predicted_linear"
   ]
  },
  {
   "cell_type": "code",
   "execution_count": 92,
   "metadata": {},
   "outputs": [],
   "source": [
    "# Scatterd plot"
   ]
  },
  {
   "cell_type": "code",
   "execution_count": 94,
   "metadata": {},
   "outputs": [
    {
     "data": {
      "text/plain": [
       "<matplotlib.collections.PathCollection at 0x7f8aec0a8d30>"
      ]
     },
     "execution_count": 94,
     "metadata": {},
     "output_type": "execute_result"
    },
    {
     "data": {
      "image/png": "[encoded data removed]",
      "text/plain": [
       "<Figure size 432x288 with 1 Axes>"
      ]
     },
     "metadata": {
      "needs_background": "light"
     },
     "output_type": "display_data"
    }
   ],
   "source": [
    "plt.scatter(X_test,y_predicted,marker='*',color='blue')\n",
    "plt.scatter(X_test,y_test,marker='+',color='red')\n",
    "\n",
    "plt.scatter(X_test,y_predicted_linear,color='green')"
   ]
  },
  {
   "cell_type": "code",
   "execution_count": 218,
   "metadata": {},
   "outputs": [
    {
     "data": {
      "text/plain": [
       "0.8333333333333334"
      ]
     },
     "execution_count": 218,
     "metadata": {},
     "output_type": "execute_result"
    }
   ],
   "source": [
    "model.score(X_test,y_test)\n"
   ]
  },
  {
   "cell_type": "code",
   "execution_count": 219,
   "metadata": {},
   "outputs": [
    {
     "data": {
      "text/plain": [
       "array([1, 0, 0, 1, 0, 1])"
      ]
     },
     "execution_count": 219,
     "metadata": {},
     "output_type": "execute_result"
    }
   ],
   "source": [
    "y_predicted\n"
   ]
  },
  {
   "cell_type": "code",
   "execution_count": 220,
   "metadata": {},
   "outputs": [
    {
     "data": {
      "text/plain": [
       "array([[46],\n",
       "       [18],\n",
       "       [22],\n",
       "       [58],\n",
       "       [40],\n",
       "       [62]])"
      ]
     },
     "execution_count": 220,
     "metadata": {},
     "output_type": "execute_result"
    }
   ],
   "source": [
    "X_test"
   ]
  },
  {
   "cell_type": "code",
   "execution_count": 221,
   "metadata": {},
   "outputs": [
    {
     "data": {
      "text/plain": [
       "array([[0.12145302]])"
      ]
     },
     "execution_count": 221,
     "metadata": {},
     "output_type": "execute_result"
    }
   ],
   "source": [
    "model.coef_"
   ]
  },
  {
   "cell_type": "code",
   "execution_count": 222,
   "metadata": {},
   "outputs": [
    {
     "data": {
      "text/plain": [
       "array([-4.97141963])"
      ]
     },
     "execution_count": 222,
     "metadata": {},
     "output_type": "execute_result"
    }
   ],
   "source": [
    "model.intercept_\n"
   ]
  },
  {
   "cell_type": "code",
   "execution_count": 223,
   "metadata": {},
   "outputs": [],
   "source": [
    "\n",
    "import math\n",
    "def sigmoid(x):\n",
    "    return 1 / (1 + math.exp(-x))"
   ]
  },
  {
   "cell_type": "code",
   "execution_count": 224,
   "metadata": {},
   "outputs": [],
   "source": [
    "def prediction_function(age):\n",
    "    z = 0.042 * age - 1.53 # 0.04150133 ~ 0.042 and -1.52726963 ~ -1.53\n",
    "    y = sigmoid(z)\n",
    "    return y"
   ]
  },
  {
   "cell_type": "code",
   "execution_count": 225,
   "metadata": {},
   "outputs": [
    {
     "data": {
      "text/plain": [
       "0.4850044983805899"
      ]
     },
     "execution_count": 225,
     "metadata": {},
     "output_type": "execute_result"
    }
   ],
   "source": [
    "age = 35\n",
    "prediction_function(age)"
   ]
  },
  {
   "cell_type": "code",
   "execution_count": 226,
   "metadata": {},
   "outputs": [
    {
     "data": {
      "text/plain": [
       "0.568565299077705"
      ]
     },
     "execution_count": 226,
     "metadata": {},
     "output_type": "execute_result"
    }
   ],
   "source": [
    "age = 43\n",
    "prediction_function(age)"
   ]
  },
  {
   "cell_type": "code",
   "execution_count": null,
   "metadata": {},
   "outputs": [],
   "source": []
  },
  {
   "cell_type": "code",
   "execution_count": 227,
   "metadata": {},
   "outputs": [],
   "source": [
    "import pandas as pd\n",
    "from matplotlib import pyplot as plt"
   ]
  },
  {
   "cell_type": "code",
   "execution_count": 228,
   "metadata": {},
   "outputs": [],
   "source": [
    "df = pd.read_csv(\"hr.csv\")\n"
   ]
  },
  {
   "cell_type": "code",
   "execution_count": 229,
   "metadata": {},
   "outputs": [
    {
     "data": {
      "text/plain": [
       "(3571, 10)"
      ]
     },
     "execution_count": 229,
     "metadata": {},
     "output_type": "execute_result"
    }
   ],
   "source": [
    "quit = df[df.quit==1]\n",
    "quit.shape"
   ]
  },
  {
   "cell_type": "code",
   "execution_count": 230,
   "metadata": {},
   "outputs": [
    {
     "data": {
      "text/plain": [
       "(11428, 10)"
      ]
     },
     "execution_count": 230,
     "metadata": {},
     "output_type": "execute_result"
    }
   ],
   "source": [
    "retained = df[df.quit==0]\n",
    "retained.shape"
   ]
  },
  {
   "cell_type": "code",
   "execution_count": 231,
   "metadata": {},
   "outputs": [
    {
     "data": {
      "text/plain": [
       "<AxesSubplot:xlabel='salary'>"
      ]
     },
     "execution_count": 231,
     "metadata": {},
     "output_type": "execute_result"
    },
    {
     "data": {
      "image/png": "[encoded data removed]",
      "text/plain": [
       "<Figure size 432x288 with 1 Axes>"
      ]
     },
     "metadata": {
      "needs_background": "light"
     },
     "output_type": "display_data"
    }
   ],
   "source": [
    "pd.crosstab(df.salary,df.quit).plot(kind='bar')\n"
   ]
  },
  {
   "cell_type": "code",
   "execution_count": 232,
   "metadata": {},
   "outputs": [
    {
     "data": {
      "text/plain": [
       "<AxesSubplot:xlabel='Department'>"
      ]
     },
     "execution_count": 232,
     "metadata": {},
     "output_type": "execute_result"
    },
    {
     "data": {
      "image/png": "[encoded data removed]",
      "text/plain": [
       "<Figure size 432x288 with 1 Axes>"
      ]
     },
     "metadata": {
      "needs_background": "light"
     },
     "output_type": "display_data"
    }
   ],
   "source": [
    "pd.crosstab(df.Department,df.quit).plot(kind='bar')\n"
   ]
  },
  {
   "cell_type": "code",
   "execution_count": 233,
   "metadata": {},
   "outputs": [
    {
     "data": {
      "text/plain": [
       "array(['low', 'medium', 'high'], dtype=object)"
      ]
     },
     "execution_count": 233,
     "metadata": {},
     "output_type": "execute_result"
    }
   ],
   "source": [
    "df.salary.unique()"
   ]
  },
  {
   "cell_type": "code",
   "execution_count": 234,
   "metadata": {},
   "outputs": [],
   "source": [
    "salary = {\"low\":  0, \"medium\": 1, \"high\":2}"
   ]
  },
  {
   "cell_type": "code",
   "execution_count": 235,
   "metadata": {},
   "outputs": [],
   "source": [
    "df_cleaned = df.replace(salary)\n"
   ]
  },
  {
   "cell_type": "code",
   "execution_count": 236,
   "metadata": {},
   "outputs": [],
   "source": [
    "department={}\n",
    "cnt = 0\n",
    "for dpt in df.Department.unique():\n",
    "    department[dpt] = cnt\n",
    "    cnt += 1"
   ]
  },
  {
   "cell_type": "code",
   "execution_count": 237,
   "metadata": {},
   "outputs": [
    {
     "data": {
      "text/plain": [
       "{'sales': 0,\n",
       " 'accounting': 1,\n",
       " 'hr': 2,\n",
       " 'technical': 3,\n",
       " 'support': 4,\n",
       " 'management': 5,\n",
       " 'IT': 6,\n",
       " 'product_mng': 7,\n",
       " 'marketing': 8,\n",
       " 'RandD': 9}"
      ]
     },
     "execution_count": 237,
     "metadata": {},
     "output_type": "execute_result"
    }
   ],
   "source": [
    "department"
   ]
  },
  {
   "cell_type": "code",
   "execution_count": 238,
   "metadata": {},
   "outputs": [],
   "source": [
    "df_cleaned = df_cleaned.replace(department)\n"
   ]
  },
  {
   "cell_type": "code",
   "execution_count": 239,
   "metadata": {},
   "outputs": [
    {
     "data": {
      "text/html": [
       "<div>\n",
       "<style scoped>\n",
       "    .dataframe tbody tr th:only-of-type {\n",
       "        vertical-align: middle;\n",
       "    }\n",
       "\n",
       "    .dataframe tbody tr th {\n",
       "        vertical-align: top;\n",
       "    }\n",
       "\n",
       "    .dataframe thead th {\n",
       "        text-align: right;\n",
       "    }\n",
       "</style>\n",
       "<table border=\"1\" class=\"dataframe\">\n",
       "  <thead>\n",
       "    <tr style=\"text-align: right;\">\n",
       "      <th></th>\n",
       "      <th>satisfaction_level</th>\n",
       "      <th>last_evaluation</th>\n",
       "      <th>number_project</th>\n",
       "      <th>average_montly_hours</th>\n",
       "      <th>time_spend_company</th>\n",
       "      <th>Work_accident</th>\n",
       "      <th>quit</th>\n",
       "      <th>promotion_last_5years</th>\n",
       "      <th>Department</th>\n",
       "      <th>salary</th>\n",
       "    </tr>\n",
       "  </thead>\n",
       "  <tbody>\n",
       "    <tr>\n",
       "      <th>0</th>\n",
       "      <td>0.38</td>\n",
       "      <td>0.53</td>\n",
       "      <td>2</td>\n",
       "      <td>157</td>\n",
       "      <td>3</td>\n",
       "      <td>0</td>\n",
       "      <td>1</td>\n",
       "      <td>0</td>\n",
       "      <td>0</td>\n",
       "      <td>0</td>\n",
       "    </tr>\n",
       "    <tr>\n",
       "      <th>1</th>\n",
       "      <td>0.80</td>\n",
       "      <td>0.86</td>\n",
       "      <td>5</td>\n",
       "      <td>262</td>\n",
       "      <td>6</td>\n",
       "      <td>0</td>\n",
       "      <td>1</td>\n",
       "      <td>0</td>\n",
       "      <td>0</td>\n",
       "      <td>1</td>\n",
       "    </tr>\n",
       "    <tr>\n",
       "      <th>2</th>\n",
       "      <td>0.11</td>\n",
       "      <td>0.88</td>\n",
       "      <td>7</td>\n",
       "      <td>272</td>\n",
       "      <td>4</td>\n",
       "      <td>0</td>\n",
       "      <td>1</td>\n",
       "      <td>0</td>\n",
       "      <td>0</td>\n",
       "      <td>1</td>\n",
       "    </tr>\n",
       "    <tr>\n",
       "      <th>3</th>\n",
       "      <td>0.72</td>\n",
       "      <td>0.87</td>\n",
       "      <td>5</td>\n",
       "      <td>223</td>\n",
       "      <td>5</td>\n",
       "      <td>0</td>\n",
       "      <td>1</td>\n",
       "      <td>0</td>\n",
       "      <td>0</td>\n",
       "      <td>0</td>\n",
       "    </tr>\n",
       "    <tr>\n",
       "      <th>4</th>\n",
       "      <td>0.37</td>\n",
       "      <td>0.52</td>\n",
       "      <td>2</td>\n",
       "      <td>159</td>\n",
       "      <td>3</td>\n",
       "      <td>0</td>\n",
       "      <td>1</td>\n",
       "      <td>0</td>\n",
       "      <td>0</td>\n",
       "      <td>0</td>\n",
       "    </tr>\n",
       "  </tbody>\n",
       "</table>\n",
       "</div>"
      ],
      "text/plain": [
       "   satisfaction_level  last_evaluation  number_project  average_montly_hours  \\\n",
       "0                0.38             0.53               2                   157   \n",
       "1                0.80             0.86               5                   262   \n",
       "2                0.11             0.88               7                   272   \n",
       "3                0.72             0.87               5                   223   \n",
       "4                0.37             0.52               2                   159   \n",
       "\n",
       "   time_spend_company  Work_accident  quit  promotion_last_5years  Department  \\\n",
       "0                   3              0     1                      0           0   \n",
       "1                   6              0     1                      0           0   \n",
       "2                   4              0     1                      0           0   \n",
       "3                   5              0     1                      0           0   \n",
       "4                   3              0     1                      0           0   \n",
       "\n",
       "   salary  \n",
       "0       0  \n",
       "1       1  \n",
       "2       1  \n",
       "3       0  \n",
       "4       0  "
      ]
     },
     "execution_count": 239,
     "metadata": {},
     "output_type": "execute_result"
    }
   ],
   "source": [
    "df_cleaned.head()"
   ]
  },
  {
   "cell_type": "code",
   "execution_count": 240,
   "metadata": {},
   "outputs": [
    {
     "data": {
      "text/html": [
       "<div>\n",
       "<style scoped>\n",
       "    .dataframe tbody tr th:only-of-type {\n",
       "        vertical-align: middle;\n",
       "    }\n",
       "\n",
       "    .dataframe tbody tr th {\n",
       "        vertical-align: top;\n",
       "    }\n",
       "\n",
       "    .dataframe thead th {\n",
       "        text-align: right;\n",
       "    }\n",
       "</style>\n",
       "<table border=\"1\" class=\"dataframe\">\n",
       "  <thead>\n",
       "    <tr style=\"text-align: right;\">\n",
       "      <th></th>\n",
       "      <th>satisfaction_level</th>\n",
       "      <th>last_evaluation</th>\n",
       "      <th>number_project</th>\n",
       "      <th>average_montly_hours</th>\n",
       "      <th>time_spend_company</th>\n",
       "      <th>Work_accident</th>\n",
       "      <th>quit</th>\n",
       "      <th>promotion_last_5years</th>\n",
       "      <th>Department</th>\n",
       "      <th>salary</th>\n",
       "    </tr>\n",
       "  </thead>\n",
       "  <tbody>\n",
       "    <tr>\n",
       "      <th>14994</th>\n",
       "      <td>0.40</td>\n",
       "      <td>0.57</td>\n",
       "      <td>2</td>\n",
       "      <td>151</td>\n",
       "      <td>3</td>\n",
       "      <td>0</td>\n",
       "      <td>1</td>\n",
       "      <td>0</td>\n",
       "      <td>4</td>\n",
       "      <td>0</td>\n",
       "    </tr>\n",
       "    <tr>\n",
       "      <th>14995</th>\n",
       "      <td>0.37</td>\n",
       "      <td>0.48</td>\n",
       "      <td>2</td>\n",
       "      <td>160</td>\n",
       "      <td>3</td>\n",
       "      <td>0</td>\n",
       "      <td>1</td>\n",
       "      <td>0</td>\n",
       "      <td>4</td>\n",
       "      <td>0</td>\n",
       "    </tr>\n",
       "    <tr>\n",
       "      <th>14996</th>\n",
       "      <td>0.37</td>\n",
       "      <td>0.53</td>\n",
       "      <td>2</td>\n",
       "      <td>143</td>\n",
       "      <td>3</td>\n",
       "      <td>0</td>\n",
       "      <td>1</td>\n",
       "      <td>0</td>\n",
       "      <td>4</td>\n",
       "      <td>0</td>\n",
       "    </tr>\n",
       "    <tr>\n",
       "      <th>14997</th>\n",
       "      <td>0.11</td>\n",
       "      <td>0.96</td>\n",
       "      <td>6</td>\n",
       "      <td>280</td>\n",
       "      <td>4</td>\n",
       "      <td>0</td>\n",
       "      <td>1</td>\n",
       "      <td>0</td>\n",
       "      <td>4</td>\n",
       "      <td>0</td>\n",
       "    </tr>\n",
       "    <tr>\n",
       "      <th>14998</th>\n",
       "      <td>0.37</td>\n",
       "      <td>0.52</td>\n",
       "      <td>2</td>\n",
       "      <td>158</td>\n",
       "      <td>3</td>\n",
       "      <td>0</td>\n",
       "      <td>1</td>\n",
       "      <td>0</td>\n",
       "      <td>4</td>\n",
       "      <td>0</td>\n",
       "    </tr>\n",
       "  </tbody>\n",
       "</table>\n",
       "</div>"
      ],
      "text/plain": [
       "       satisfaction_level  last_evaluation  number_project  \\\n",
       "14994                0.40             0.57               2   \n",
       "14995                0.37             0.48               2   \n",
       "14996                0.37             0.53               2   \n",
       "14997                0.11             0.96               6   \n",
       "14998                0.37             0.52               2   \n",
       "\n",
       "       average_montly_hours  time_spend_company  Work_accident  quit  \\\n",
       "14994                   151                   3              0     1   \n",
       "14995                   160                   3              0     1   \n",
       "14996                   143                   3              0     1   \n",
       "14997                   280                   4              0     1   \n",
       "14998                   158                   3              0     1   \n",
       "\n",
       "       promotion_last_5years  Department  salary  \n",
       "14994                      0           4       0  \n",
       "14995                      0           4       0  \n",
       "14996                      0           4       0  \n",
       "14997                      0           4       0  \n",
       "14998                      0           4       0  "
      ]
     },
     "execution_count": 240,
     "metadata": {},
     "output_type": "execute_result"
    }
   ],
   "source": [
    "df_cleaned.tail()"
   ]
  },
  {
   "cell_type": "code",
   "execution_count": 241,
   "metadata": {},
   "outputs": [],
   "source": [
    "# X = df_cleaned.iloc[:, 0:5, 7:9].values  # values converts it into a numpy array\n",
    "Y = df_cleaned.iloc[:, 6].values"
   ]
  },
  {
   "cell_type": "code",
   "execution_count": 242,
   "metadata": {},
   "outputs": [
    {
     "data": {
      "text/plain": [
       "(14999,)"
      ]
     },
     "execution_count": 242,
     "metadata": {},
     "output_type": "execute_result"
    }
   ],
   "source": [
    "Y.shape"
   ]
  },
  {
   "cell_type": "code",
   "execution_count": 243,
   "metadata": {},
   "outputs": [],
   "source": [
    "X = df_cleaned.drop(columns=['quit'])"
   ]
  },
  {
   "cell_type": "code",
   "execution_count": 244,
   "metadata": {},
   "outputs": [
    {
     "data": {
      "text/html": [
       "<div>\n",
       "<style scoped>\n",
       "    .dataframe tbody tr th:only-of-type {\n",
       "        vertical-align: middle;\n",
       "    }\n",
       "\n",
       "    .dataframe tbody tr th {\n",
       "        vertical-align: top;\n",
       "    }\n",
       "\n",
       "    .dataframe thead th {\n",
       "        text-align: right;\n",
       "    }\n",
       "</style>\n",
       "<table border=\"1\" class=\"dataframe\">\n",
       "  <thead>\n",
       "    <tr style=\"text-align: right;\">\n",
       "      <th></th>\n",
       "      <th>satisfaction_level</th>\n",
       "      <th>last_evaluation</th>\n",
       "      <th>number_project</th>\n",
       "      <th>average_montly_hours</th>\n",
       "      <th>time_spend_company</th>\n",
       "      <th>Work_accident</th>\n",
       "      <th>promotion_last_5years</th>\n",
       "      <th>Department</th>\n",
       "      <th>salary</th>\n",
       "    </tr>\n",
       "  </thead>\n",
       "  <tbody>\n",
       "    <tr>\n",
       "      <th>0</th>\n",
       "      <td>0.38</td>\n",
       "      <td>0.53</td>\n",
       "      <td>2</td>\n",
       "      <td>157</td>\n",
       "      <td>3</td>\n",
       "      <td>0</td>\n",
       "      <td>0</td>\n",
       "      <td>0</td>\n",
       "      <td>0</td>\n",
       "    </tr>\n",
       "    <tr>\n",
       "      <th>1</th>\n",
       "      <td>0.80</td>\n",
       "      <td>0.86</td>\n",
       "      <td>5</td>\n",
       "      <td>262</td>\n",
       "      <td>6</td>\n",
       "      <td>0</td>\n",
       "      <td>0</td>\n",
       "      <td>0</td>\n",
       "      <td>1</td>\n",
       "    </tr>\n",
       "    <tr>\n",
       "      <th>2</th>\n",
       "      <td>0.11</td>\n",
       "      <td>0.88</td>\n",
       "      <td>7</td>\n",
       "      <td>272</td>\n",
       "      <td>4</td>\n",
       "      <td>0</td>\n",
       "      <td>0</td>\n",
       "      <td>0</td>\n",
       "      <td>1</td>\n",
       "    </tr>\n",
       "    <tr>\n",
       "      <th>3</th>\n",
       "      <td>0.72</td>\n",
       "      <td>0.87</td>\n",
       "      <td>5</td>\n",
       "      <td>223</td>\n",
       "      <td>5</td>\n",
       "      <td>0</td>\n",
       "      <td>0</td>\n",
       "      <td>0</td>\n",
       "      <td>0</td>\n",
       "    </tr>\n",
       "    <tr>\n",
       "      <th>4</th>\n",
       "      <td>0.37</td>\n",
       "      <td>0.52</td>\n",
       "      <td>2</td>\n",
       "      <td>159</td>\n",
       "      <td>3</td>\n",
       "      <td>0</td>\n",
       "      <td>0</td>\n",
       "      <td>0</td>\n",
       "      <td>0</td>\n",
       "    </tr>\n",
       "    <tr>\n",
       "      <th>...</th>\n",
       "      <td>...</td>\n",
       "      <td>...</td>\n",
       "      <td>...</td>\n",
       "      <td>...</td>\n",
       "      <td>...</td>\n",
       "      <td>...</td>\n",
       "      <td>...</td>\n",
       "      <td>...</td>\n",
       "      <td>...</td>\n",
       "    </tr>\n",
       "    <tr>\n",
       "      <th>14994</th>\n",
       "      <td>0.40</td>\n",
       "      <td>0.57</td>\n",
       "      <td>2</td>\n",
       "      <td>151</td>\n",
       "      <td>3</td>\n",
       "      <td>0</td>\n",
       "      <td>0</td>\n",
       "      <td>4</td>\n",
       "      <td>0</td>\n",
       "    </tr>\n",
       "    <tr>\n",
       "      <th>14995</th>\n",
       "      <td>0.37</td>\n",
       "      <td>0.48</td>\n",
       "      <td>2</td>\n",
       "      <td>160</td>\n",
       "      <td>3</td>\n",
       "      <td>0</td>\n",
       "      <td>0</td>\n",
       "      <td>4</td>\n",
       "      <td>0</td>\n",
       "    </tr>\n",
       "    <tr>\n",
       "      <th>14996</th>\n",
       "      <td>0.37</td>\n",
       "      <td>0.53</td>\n",
       "      <td>2</td>\n",
       "      <td>143</td>\n",
       "      <td>3</td>\n",
       "      <td>0</td>\n",
       "      <td>0</td>\n",
       "      <td>4</td>\n",
       "      <td>0</td>\n",
       "    </tr>\n",
       "    <tr>\n",
       "      <th>14997</th>\n",
       "      <td>0.11</td>\n",
       "      <td>0.96</td>\n",
       "      <td>6</td>\n",
       "      <td>280</td>\n",
       "      <td>4</td>\n",
       "      <td>0</td>\n",
       "      <td>0</td>\n",
       "      <td>4</td>\n",
       "      <td>0</td>\n",
       "    </tr>\n",
       "    <tr>\n",
       "      <th>14998</th>\n",
       "      <td>0.37</td>\n",
       "      <td>0.52</td>\n",
       "      <td>2</td>\n",
       "      <td>158</td>\n",
       "      <td>3</td>\n",
       "      <td>0</td>\n",
       "      <td>0</td>\n",
       "      <td>4</td>\n",
       "      <td>0</td>\n",
       "    </tr>\n",
       "  </tbody>\n",
       "</table>\n",
       "<p>14999 rows × 9 columns</p>\n",
       "</div>"
      ],
      "text/plain": [
       "       satisfaction_level  last_evaluation  number_project  \\\n",
       "0                    0.38             0.53               2   \n",
       "1                    0.80             0.86               5   \n",
       "2                    0.11             0.88               7   \n",
       "3                    0.72             0.87               5   \n",
       "4                    0.37             0.52               2   \n",
       "...                   ...              ...             ...   \n",
       "14994                0.40             0.57               2   \n",
       "14995                0.37             0.48               2   \n",
       "14996                0.37             0.53               2   \n",
       "14997                0.11             0.96               6   \n",
       "14998                0.37             0.52               2   \n",
       "\n",
       "       average_montly_hours  time_spend_company  Work_accident  \\\n",
       "0                       157                   3              0   \n",
       "1                       262                   6              0   \n",
       "2                       272                   4              0   \n",
       "3                       223                   5              0   \n",
       "4                       159                   3              0   \n",
       "...                     ...                 ...            ...   \n",
       "14994                   151                   3              0   \n",
       "14995                   160                   3              0   \n",
       "14996                   143                   3              0   \n",
       "14997                   280                   4              0   \n",
       "14998                   158                   3              0   \n",
       "\n",
       "       promotion_last_5years  Department  salary  \n",
       "0                          0           0       0  \n",
       "1                          0           0       1  \n",
       "2                          0           0       1  \n",
       "3                          0           0       0  \n",
       "4                          0           0       0  \n",
       "...                      ...         ...     ...  \n",
       "14994                      0           4       0  \n",
       "14995                      0           4       0  \n",
       "14996                      0           4       0  \n",
       "14997                      0           4       0  \n",
       "14998                      0           4       0  \n",
       "\n",
       "[14999 rows x 9 columns]"
      ]
     },
     "execution_count": 244,
     "metadata": {},
     "output_type": "execute_result"
    }
   ],
   "source": [
    "X"
   ]
  },
  {
   "cell_type": "code",
   "execution_count": 245,
   "metadata": {},
   "outputs": [
    {
     "data": {
      "text/plain": [
       "(14999,)"
      ]
     },
     "execution_count": 245,
     "metadata": {},
     "output_type": "execute_result"
    }
   ],
   "source": [
    "Y.shape"
   ]
  },
  {
   "cell_type": "code",
   "execution_count": 246,
   "metadata": {},
   "outputs": [
    {
     "data": {
      "text/plain": [
       "(14999, 9)"
      ]
     },
     "execution_count": 246,
     "metadata": {},
     "output_type": "execute_result"
    }
   ],
   "source": [
    "X.shape"
   ]
  },
  {
   "cell_type": "code",
   "execution_count": 247,
   "metadata": {},
   "outputs": [],
   "source": [
    "X_train,X_test,y_train,y_test = train_test_split(X,Y,test_size=0.3)\n"
   ]
  },
  {
   "cell_type": "code",
   "execution_count": 248,
   "metadata": {},
   "outputs": [
    {
     "data": {
      "text/plain": [
       "(10499, 9)"
      ]
     },
     "execution_count": 248,
     "metadata": {},
     "output_type": "execute_result"
    }
   ],
   "source": [
    "X_train.shape"
   ]
  },
  {
   "cell_type": "code",
   "execution_count": 249,
   "metadata": {},
   "outputs": [
    {
     "data": {
      "text/plain": [
       "(10499,)"
      ]
     },
     "execution_count": 249,
     "metadata": {},
     "output_type": "execute_result"
    }
   ],
   "source": [
    "y_train.shape"
   ]
  },
  {
   "cell_type": "code",
   "execution_count": 250,
   "metadata": {},
   "outputs": [
    {
     "data": {
      "text/plain": [
       "(4500, 9)"
      ]
     },
     "execution_count": 250,
     "metadata": {},
     "output_type": "execute_result"
    }
   ],
   "source": [
    "X_test.shape"
   ]
  },
  {
   "cell_type": "code",
   "execution_count": 251,
   "metadata": {},
   "outputs": [
    {
     "data": {
      "text/plain": [
       "(4500,)"
      ]
     },
     "execution_count": 251,
     "metadata": {},
     "output_type": "execute_result"
    }
   ],
   "source": [
    "y_test.shape"
   ]
  },
  {
   "cell_type": "code",
   "execution_count": 252,
   "metadata": {},
   "outputs": [
    {
     "name": "stderr",
     "output_type": "stream",
     "text": [
      "/home/amarnath/.local/lib/python3.8/site-packages/sklearn/linear_model/_logistic.py:814: ConvergenceWarning: lbfgs failed to converge (status=1):\n",
      "STOP: TOTAL NO. of ITERATIONS REACHED LIMIT.\n",
      "\n",
      "Increase the number of iterations (max_iter) or scale the data as shown in:\n",
      "    https://scikit-learn.org/stable/modules/preprocessing.html\n",
      "Please also refer to the documentation for alternative solver options:\n",
      "    https://scikit-learn.org/stable/modules/linear_model.html#logistic-regression\n",
      "  n_iter_i = _check_optimize_result(\n"
     ]
    },
    {
     "data": {
      "text/plain": [
       "LogisticRegression()"
      ]
     },
     "execution_count": 252,
     "metadata": {},
     "output_type": "execute_result"
    }
   ],
   "source": [
    "model = LogisticRegression()  # create object for the class\n",
    "model.fit(X_train, y_train)"
   ]
  },
  {
   "cell_type": "code",
   "execution_count": 253,
   "metadata": {},
   "outputs": [
    {
     "data": {
      "text/plain": [
       "array([0, 0, 0, ..., 0, 0, 0])"
      ]
     },
     "execution_count": 253,
     "metadata": {},
     "output_type": "execute_result"
    }
   ],
   "source": [
    "pred=model.predict(X_test)\n",
    "pred"
   ]
  },
  {
   "cell_type": "code",
   "execution_count": 254,
   "metadata": {},
   "outputs": [
    {
     "data": {
      "text/plain": [
       "0.8086666666666666"
      ]
     },
     "execution_count": 254,
     "metadata": {},
     "output_type": "execute_result"
    }
   ],
   "source": [
    "model.score(X_test,y_test)"
   ]
  },
  {
   "cell_type": "code",
   "execution_count": 255,
   "metadata": {},
   "outputs": [],
   "source": [
    "from sklearn.metrics import roc_curve\n",
    "from sklearn.metrics import roc_auc_score"
   ]
  },
  {
   "cell_type": "code",
   "execution_count": 256,
   "metadata": {},
   "outputs": [
    {
     "data": {
      "text/plain": [
       "array([False, False, False, ..., False, False, False])"
      ]
     },
     "execution_count": 256,
     "metadata": {},
     "output_type": "execute_result"
    }
   ],
   "source": [
    "model.predict_proba(X_test)[:,1]> .5\n"
   ]
  },
  {
   "cell_type": "code",
   "execution_count": 257,
   "metadata": {},
   "outputs": [
    {
     "name": "stdout",
     "output_type": "stream",
     "text": [
      "0.8086666666666666\n"
     ]
    }
   ],
   "source": [
    "# Use score method to get accuracy of model\n",
    "score = model.score(X_test, y_test)\n",
    "print(score)"
   ]
  },
  {
   "cell_type": "code",
   "execution_count": 258,
   "metadata": {},
   "outputs": [],
   "source": [
    "import matplotlib.pyplot as plt\n",
    "import seaborn as sns\n",
    "from sklearn import metrics"
   ]
  },
  {
   "cell_type": "code",
   "execution_count": 259,
   "metadata": {},
   "outputs": [
    {
     "name": "stdout",
     "output_type": "stream",
     "text": [
      "[[3233  217]\n",
      " [ 644  406]]\n"
     ]
    }
   ],
   "source": [
    "cm = metrics.confusion_matrix(y_test, pred)\n",
    "print(cm)"
   ]
  },
  {
   "cell_type": "code",
   "execution_count": 260,
   "metadata": {},
   "outputs": [
    {
     "data": {
      "text/plain": [
       "(4500,)"
      ]
     },
     "execution_count": 260,
     "metadata": {},
     "output_type": "execute_result"
    }
   ],
   "source": [
    "y_test.shape"
   ]
  },
  {
   "cell_type": "code",
   "execution_count": 261,
   "metadata": {},
   "outputs": [
    {
     "data": {
      "text/plain": [
       "array([0, 1])"
      ]
     },
     "execution_count": 261,
     "metadata": {},
     "output_type": "execute_result"
    }
   ],
   "source": [
    "model.classes_"
   ]
  },
  {
   "cell_type": "code",
   "execution_count": 262,
   "metadata": {},
   "outputs": [],
   "source": [
    "# Follow the order\n",
    "labels_dic = {0:'retension', 1:'quit'}\n",
    "\n",
    "x_labels = []\n",
    "y_labels = []\n",
    "for mod in model.classes_:\n",
    "    x_labels.append(labels_dic[mod])\n",
    "    y_labels.append(labels_dic[mod])\n"
   ]
  },
  {
   "cell_type": "code",
   "execution_count": 263,
   "metadata": {},
   "outputs": [
    {
     "data": {
      "text/plain": [
       "['retension', 'quit']"
      ]
     },
     "execution_count": 263,
     "metadata": {},
     "output_type": "execute_result"
    }
   ],
   "source": [
    "\n",
    "x_labels"
   ]
  },
  {
   "cell_type": "code",
   "execution_count": 264,
   "metadata": {},
   "outputs": [
    {
     "data": {
      "text/plain": [
       "['retension', 'quit']"
      ]
     },
     "execution_count": 264,
     "metadata": {},
     "output_type": "execute_result"
    }
   ],
   "source": [
    "y_labels"
   ]
  },
  {
   "cell_type": "code",
   "execution_count": 265,
   "metadata": {},
   "outputs": [],
   "source": [
    "from sklearn.metrics import classification_report, confusion_matrix\n"
   ]
  },
  {
   "cell_type": "code",
   "execution_count": 266,
   "metadata": {
    "scrolled": true
   },
   "outputs": [
    {
     "name": "stdout",
     "output_type": "stream",
     "text": [
      "[[3233  217]\n",
      " [ 644  406]]\n"
     ]
    },
    {
     "data": {
      "image/png": "[encoded data removed]",
      "text/plain": [
       "<Figure size 432x288 with 2 Axes>"
      ]
     },
     "metadata": {
      "needs_background": "light"
     },
     "output_type": "display_data"
    }
   ],
   "source": [
    "print(cm)\n",
    "# sns.heatmap(cm, linewidths=1, annot=True, fmt='g')\n",
    "ax = sns.heatmap(cm, linewidths=1,annot=True, fmt='g', xticklabels=x_labels, yticklabels=y_labels)\n",
    "ax.xaxis.set_ticks_position('top')"
   ]
  },
  {
   "cell_type": "code",
   "execution_count": 267,
   "metadata": {},
   "outputs": [],
   "source": [
    "import numpy as np"
   ]
  },
  {
   "cell_type": "code",
   "execution_count": 268,
   "metadata": {},
   "outputs": [
    {
     "name": "stdout",
     "output_type": "stream",
     "text": [
      "[[3233  217]\n",
      " [ 644  406]]\n"
     ]
    },
    {
     "data": {
      "image/png": "[encoded data removed]",
      "text/plain": [
       "<Figure size 432x288 with 2 Axes>"
      ]
     },
     "metadata": {
      "needs_background": "light"
     },
     "output_type": "display_data"
    }
   ],
   "source": [
    "print(cm)\n",
    "\n",
    "cmn = cm.astype('float') / cm.sum()\n",
    "ax = sns.heatmap(cmn, linewidths=1,annot=True, fmt='.2f', xticklabels=x_labels, yticklabels=y_labels)\n",
    "ax.xaxis.set_ticks_position('top')"
   ]
  },
  {
   "cell_type": "code",
   "execution_count": 269,
   "metadata": {},
   "outputs": [
    {
     "name": "stdout",
     "output_type": "stream",
     "text": [
      "              precision    recall  f1-score   support\n",
      "\n",
      "   retension       0.83      0.94      0.88      3450\n",
      "        quit       0.65      0.39      0.49      1050\n",
      "\n",
      "    accuracy                           0.81      4500\n",
      "   macro avg       0.74      0.66      0.68      4500\n",
      "weighted avg       0.79      0.81      0.79      4500\n",
      "\n"
     ]
    }
   ],
   "source": [
    "print(classification_report(y_test, pred, target_names=x_labels))"
   ]
  },
  {
   "cell_type": "code",
   "execution_count": 270,
   "metadata": {},
   "outputs": [],
   "source": [
    "from sklearn.metrics import roc_curve\n",
    "\n"
   ]
  },
  {
   "cell_type": "code",
   "execution_count": 271,
   "metadata": {},
   "outputs": [],
   "source": [
    "# roc curve for models\n",
    "fpr1, tpr1, thresh1 = roc_curve(y_test, pred, pos_label=1)"
   ]
  },
  {
   "cell_type": "code",
   "execution_count": 272,
   "metadata": {},
   "outputs": [
    {
     "data": {
      "text/plain": [
       "(array([0.        , 0.06289855, 1.        ]),\n",
       " array([0.        , 0.38666667, 1.        ]),\n",
       " array([2, 1, 0]))"
      ]
     },
     "execution_count": 272,
     "metadata": {},
     "output_type": "execute_result"
    }
   ],
   "source": [
    "fpr1, tpr1, thresh1"
   ]
  },
  {
   "cell_type": "code",
   "execution_count": 273,
   "metadata": {},
   "outputs": [
    {
     "data": {
      "text/plain": [
       "[<matplotlib.lines.Line2D at 0x7fc96ed67e80>]"
      ]
     },
     "execution_count": 273,
     "metadata": {},
     "output_type": "execute_result"
    },
    {
     "data": {
      "image/png": "[encoded data removed]",
      "text/plain": [
       "<Figure size 432x288 with 1 Axes>"
      ]
     },
     "metadata": {
      "needs_background": "light"
     },
     "output_type": "display_data"
    }
   ],
   "source": [
    "plt.plot(fpr1, tpr1, linestyle='--',color='orange', label='Logistic Regression')\n"
   ]
  },
  {
   "cell_type": "code",
   "execution_count": 274,
   "metadata": {},
   "outputs": [],
   "source": [
    "sensitivity = cm[0][0]/(cm[0][0]+cm[1][1])"
   ]
  },
  {
   "cell_type": "code",
   "execution_count": 275,
   "metadata": {},
   "outputs": [
    {
     "data": {
      "text/plain": [
       "0.8884308876064853"
      ]
     },
     "execution_count": 275,
     "metadata": {},
     "output_type": "execute_result"
    }
   ],
   "source": [
    "sensitivity"
   ]
  },
  {
   "cell_type": "code",
   "execution_count": 276,
   "metadata": {},
   "outputs": [],
   "source": [
    "specificity = cm[1][1]/(cm[0][0]+cm[1][1])"
   ]
  },
  {
   "cell_type": "code",
   "execution_count": 277,
   "metadata": {},
   "outputs": [
    {
     "data": {
      "text/plain": [
       "0.1115691123935147"
      ]
     },
     "execution_count": 277,
     "metadata": {},
     "output_type": "execute_result"
    }
   ],
   "source": [
    "specificity"
   ]
  },
  {
   "cell_type": "code",
   "execution_count": 278,
   "metadata": {},
   "outputs": [
    {
     "data": {
      "text/plain": [
       "1.0"
      ]
     },
     "execution_count": 278,
     "metadata": {},
     "output_type": "execute_result"
    }
   ],
   "source": [
    "sensitivity + specificity"
   ]
  },
  {
   "cell_type": "code",
   "execution_count": 290,
   "metadata": {},
   "outputs": [],
   "source": [
    "from sklearn.metrics import precision_score\n",
    "from sklearn.metrics import recall_score\n"
   ]
  },
  {
   "cell_type": "code",
   "execution_count": 291,
   "metadata": {},
   "outputs": [
    {
     "data": {
      "text/plain": [
       "(4500,)"
      ]
     },
     "execution_count": 291,
     "metadata": {},
     "output_type": "execute_result"
    }
   ],
   "source": [
    "pred.shape"
   ]
  },
  {
   "cell_type": "code",
   "execution_count": null,
   "metadata": {},
   "outputs": [],
   "source": []
  },
  {
   "cell_type": "code",
   "execution_count": 292,
   "metadata": {},
   "outputs": [
    {
     "data": {
      "text/plain": [
       "0.651685393258427"
      ]
     },
     "execution_count": 292,
     "metadata": {},
     "output_type": "execute_result"
    }
   ],
   "source": [
    "precision = precision_score(y_test, pred)\n",
    "precision"
   ]
  },
  {
   "cell_type": "code",
   "execution_count": 293,
   "metadata": {},
   "outputs": [
    {
     "data": {
      "text/plain": [
       "0.38666666666666666"
      ]
     },
     "execution_count": 293,
     "metadata": {},
     "output_type": "execute_result"
    }
   ],
   "source": [
    "recall = recall_score(y_test, pred)\n",
    "recall"
   ]
  },
  {
   "cell_type": "code",
   "execution_count": 279,
   "metadata": {},
   "outputs": [],
   "source": [
    "from sklearn.model_selection import KFold\n",
    "from sklearn.model_selection import cross_val_score"
   ]
  },
  {
   "cell_type": "code",
   "execution_count": 280,
   "metadata": {},
   "outputs": [
    {
     "name": "stdout",
     "output_type": "stream",
     "text": [
      "[0.796      0.78733333 0.78866667 0.78733333 0.802      0.78133333\n",
      " 0.78533333 0.75333333 0.802      0.79919947]\n"
     ]
    }
   ],
   "source": [
    "cv = KFold(n_splits=10, random_state=1, shuffle=True)\n",
    "\n",
    "# evaluate model\n",
    "scores = cross_val_score(model, X, Y, scoring='accuracy', cv=cv, n_jobs=2)\n",
    "# report performance\n",
    "print(scores)"
   ]
  },
  {
   "cell_type": "code",
   "execution_count": 281,
   "metadata": {},
   "outputs": [
    {
     "data": {
      "text/plain": [
       "KFold(n_splits=25, random_state=5, shuffle=True)"
      ]
     },
     "execution_count": 281,
     "metadata": {},
     "output_type": "execute_result"
    }
   ],
   "source": [
    "kf = KFold(n_splits=25, random_state=5, shuffle=True)\n",
    "\n",
    "\n",
    "kf\n",
    "\n"
   ]
  },
  {
   "cell_type": "code",
   "execution_count": 296,
   "metadata": {},
   "outputs": [],
   "source": [
    "from scipy.stats import sem\n",
    "from numpy import mean\n",
    "from numpy import std\n",
    "from sklearn.datasets import make_classification\n",
    "from sklearn.model_selection import RepeatedKFold\n",
    "from sklearn.model_selection import cross_val_score\n",
    "from sklearn.linear_model import LogisticRegression\n",
    "from matplotlib import pyplot\n",
    "\n"
   ]
  },
  {
   "cell_type": "code",
   "execution_count": 308,
   "metadata": {},
   "outputs": [
    {
     "name": "stdout",
     "output_type": "stream",
     "text": [
      ">1 mean=0.7899 se=0.005\n",
      ">2 mean=0.7914 se=0.003\n",
      ">3 mean=0.7915 se=0.002\n",
      ">4 mean=0.7907 se=0.002\n"
     ]
    },
    {
     "data": {
      "image/png": "[encoded data removed]",
      "text/plain": [
       "<Figure size 432x288 with 1 Axes>"
      ]
     },
     "metadata": {
      "needs_background": "light"
     },
     "output_type": "display_data"
    }
   ],
   "source": [
    "model = LogisticRegression()\n",
    "repeats = range(1,5)\n",
    "def evaluate_model(x, y, r):\n",
    "\n",
    "    kf = RepeatedKFold(n_splits=10, n_repeats=r, random_state=1)\n",
    "\n",
    "    \n",
    "    scores = cross_val_score(model, x, y, scoring='accuracy', cv=kf, n_jobs=-1)\n",
    "    return scores\n",
    "\n",
    "\n",
    "results = list()\n",
    "for r in repeats:\n",
    "    scores = evaluate_model(X, Y, r)\n",
    "    print('>%d mean=%.4f se=%.3f' % (r, mean(scores), sem(scores)))\n",
    "\n",
    "    results.append(scores)\n",
    "\n",
    "pyplot.boxplot(results, labels=[str(r) for r in repeats], showmeans=True)\n",
    "pyplot.show()"
   ]
  },
  {
   "cell_type": "code",
   "execution_count": 295,
   "metadata": {},
   "outputs": [],
   "source": [
    "# Maximizing precision will minimize the number false positives, \n",
    "# whereas maximizing the recall will minimize the number of false negatives."
   ]
  },
  {
   "cell_type": "code",
   "execution_count": 202,
   "metadata": {},
   "outputs": [
    {
     "name": "stdout",
     "output_type": "stream",
     "text": [
      "TRAIN: [    0     1     2 ... 14996 14997 14998]\n",
      "TEST: [    8    15    17    19    33    40    51    57    75    77   111   125\n",
      "   136   163   184   212   227   236   284   299   317   321   399   401\n",
      "   404   448   454   468   482   507   553   555   584   628   644   649\n",
      "   651   656   667   681   687   701   797   850   889   902   942   952\n",
      "   959   967  1023  1037  1043  1059  1073  1074  1101  1126  1163  1173\n",
      "  1177  1181  1213  1245  1325  1326  1330  1341  1377  1393  1411  1435\n",
      "  1437  1487  1504  1511  1627  1641  1644  1682  1685  1696  1753  1759\n",
      "  1781  1793  1808  1837  1883  1886  1896  1930  1933  1937  1990  2021\n",
      "  2056  2065  2095  2159  2192  2223  2290  2292  2297  2315  2327  2423\n",
      "  2452  2453  2480  2506  2575  2597  2616  2621  2682  2684  2706  2737\n",
      "  2834  2888  2929  2945  2964  2975  2983  3024  3133  3141  3143  3165\n",
      "  3191  3208  3228  3269  3272  3279  3390  3394  3395  3414  3427  3434\n",
      "  3461  3464  3493  3510  3519  3521  3537  3543  3547  3555  3557  3627\n",
      "  3628  3720  3724  3747  3814  3822  3851  3923  3954  4022  4037  4134\n",
      "  4150  4164  4167  4265  4267  4276  4281  4390  4416  4430  4504  4509\n",
      "  4513  4529  4530  4619  4630  4641  4706  4722  4750  4751  4768  4830\n",
      "  4865  4893  4895  4907  4996  5013  5074  5113  5131  5154  5177  5190\n",
      "  5265  5276  5278  5288  5292  5393  5427  5429  5473  5499  5551  5580\n",
      "  5595  5624  5651  5665  5671  5723  5746  5755  5776  5821  5841  5871\n",
      "  5878  5929  5932  5969  5974  5983  5985  6002  6012  6013  6042  6071\n",
      "  6096  6198  6202  6212  6266  6273  6282  6308  6309  6355  6361  6368\n",
      "  6369  6434  6436  6465  6471  6520  6550  6571  6613  6662  6665  6668\n",
      "  6672  6677  6681  6693  6700  6701  6771  6810  6839  6845  6846  6851\n",
      "  6904  6929  6932  6940  6965  6996  7008  7013  7021  7039  7057  7058\n",
      "  7086  7097  7122  7176  7179  7210  7248  7273  7310  7317  7364  7388\n",
      "  7444  7541  7555  7556  7565  7581  7606  7653  7677  7686  7718  7831\n",
      "  7837  7888  7974  8019  8032  8035  8059  8116  8119  8136  8177  8193\n",
      "  8223  8237  8299  8342  8373  8401  8436  8459  8479  8501  8530  8540\n",
      "  8592  8595  8609  8636  8640  8673  8695  8716  8724  8738  8756  8760\n",
      "  8761  8812  8843  8853  8870  8886  8917  8979  9001  9028  9040  9067\n",
      "  9069  9075  9080  9111  9119  9150  9185  9227  9268  9294  9307  9321\n",
      "  9326  9327  9336  9369  9378  9394  9436  9451  9504  9529  9537  9573\n",
      "  9579  9674  9687  9724  9746  9750  9808  9829  9837  9852  9878  9900\n",
      "  9901  9920  9932  9968 10103 10118 10162 10183 10194 10204 10221 10257\n",
      " 10258 10286 10295 10331 10344 10385 10415 10421 10432 10486 10490 10500\n",
      " 10510 10547 10582 10601 10611 10658 10670 10722 10794 10802 10865 10875\n",
      " 10889 10923 10930 10943 10980 10990 10991 10995 11065 11097 11098 11101\n",
      " 11124 11138 11169 11178 11184 11204 11228 11239 11281 11290 11316 11318\n",
      " 11324 11330 11391 11440 11449 11457 11465 11501 11502 11509 11519 11523\n",
      " 11542 11593 11625 11632 11635 11639 11648 11658 11659 11669 11696 11738\n",
      " 11786 11790 11797 11806 11812 11826 11831 11832 11838 11865 11873 11883\n",
      " 11887 11906 11930 12000 12020 12028 12033 12047 12084 12089 12106 12128\n",
      " 12135 12182 12206 12240 12320 12375 12408 12451 12462 12472 12495 12496\n",
      " 12545 12635 12766 12785 13052 13069 13088 13112 13257 13315 13335 13366\n",
      " 13419 13430 13468 13471 13486 13492 13511 13512 13522 13543 13620 13660\n",
      " 13684 13695 13732 13763 13771 13806 13807 13818 13892 13901 13910 13918\n",
      " 13936 13943 13951 13953 13966 14057 14131 14180 14187 14224 14240 14259\n",
      " 14277 14290 14312 14330 14332 14369 14380 14431 14445 14468 14479 14514\n",
      " 14542 14607 14614 14618 14619 14637 14642 14687 14696 14745 14749 14754\n",
      " 14782 14847 14876 14885 14899 14902 14931 14939 14953 14954 14984 14988]\n",
      "TRAIN: [    0     1     2 ... 14996 14997 14998]\n",
      "TEST: [   29    61    69   138   149   157   186   306   323   346   372   405\n",
      "   414   487   531   539   544   611   626   629   636   746   783   790\n",
      "   791   808   814   826   847   864   901   919   955   982   995  1001\n",
      "  1057  1089  1134  1199  1200  1215  1242  1250  1252  1309  1322  1351\n",
      "  1397  1406  1421  1432  1441  1452  1464  1522  1524  1619  1622  1688\n",
      "  1716  1771  1813  1827  1828  1839  1845  1876  1976  2035  2059  2152\n",
      "  2164  2200  2281  2301  2328  2354  2356  2434  2476  2514  2526  2529\n",
      "  2536  2574  2584  2614  2617  2641  2642  2731  2754  2787  2828  2836\n",
      "  2854  2864  2881  2941  2976  3000  3018  3036  3112  3124  3127  3135\n",
      "  3177  3223  3229  3233  3243  3248  3294  3302  3309  3312  3323  3357\n",
      "  3366  3407  3450  3488  3524  3549  3599  3604  3609  3612  3631  3658\n",
      "  3670  3674  3682  3722  3727  3798  3828  3917  3918  3933  3946  4046\n",
      "  4049  4051  4064  4073  4084  4089  4091  4107  4125  4188  4195  4206\n",
      "  4207  4248  4282  4338  4355  4361  4397  4420  4424  4431  4438  4443\n",
      "  4520  4545  4546  4549  4571  4572  4573  4610  4627  4632  4676  4703\n",
      "  4704  4709  4712  4725  4752  4842  4862  4922  4972  4991  5017  5041\n",
      "  5079  5103  5134  5161  5165  5213  5214  5215  5227  5236  5238  5247\n",
      "  5270  5279  5302  5378  5401  5409  5415  5417  5437  5451  5561  5572\n",
      "  5629  5630  5657  5682  5798  5805  5839  5904  5918  5940  5979  5999\n",
      "  6028  6044  6049  6073  6115  6118  6139  6166  6207  6208  6214  6217\n",
      "  6221  6222  6226  6238  6257  6284  6293  6306  6414  6428  6462  6470\n",
      "  6492  6557  6568  6603  6656  6667  6669  6678  6689  6723  6746  6759\n",
      "  6778  6799  6814  6870  6880  6912  6913  6923  6942  7019  7033  7044\n",
      "  7062  7100  7111  7124  7156  7219  7251  7261  7266  7302  7340  7362\n",
      "  7417  7428  7538  7544  7600  7614  7622  7661  7680  7691  7708  7714\n",
      "  7725  7729  7757  7795  7872  7886  7908  7942  7969  8066  8075  8085\n",
      "  8104  8128  8143  8146  8187  8201  8205  8263  8312  8325  8328  8358\n",
      "  8369  8393  8414  8427  8430  8440  8450  8462  8534  8545  8571  8606\n",
      "  8613  8616  8617  8626  8680  8707  8718  8755  8811  8838  8879  8905\n",
      "  8912  8946  9009  9042  9049  9094  9098  9102  9103  9120  9144  9146\n",
      "  9147  9175  9218  9234  9237  9239  9250  9265  9267  9269  9296  9314\n",
      "  9359  9403  9425  9461  9474  9488  9508  9513  9532  9657  9688  9765\n",
      "  9775  9817  9827  9854  9870  9952 10026 10027 10067 10084 10154 10161\n",
      " 10165 10206 10269 10319 10329 10347 10351 10418 10429 10434 10435 10448\n",
      " 10466 10491 10495 10502 10505 10575 10595 10651 10702 10723 10748 10803\n",
      " 10863 10867 10888 10893 10904 10956 10969 10983 11036 11047 11082 11088\n",
      " 11090 11106 11177 11180 11210 11211 11241 11301 11302 11315 11336 11348\n",
      " 11357 11359 11376 11418 11436 11474 11486 11514 11538 11552 11597 11647\n",
      " 11675 11702 11754 11758 11759 11799 11810 11835 11881 11895 11903 11911\n",
      " 11933 11961 12001 12006 12023 12045 12056 12059 12103 12121 12122 12129\n",
      " 12141 12149 12156 12159 12172 12198 12208 12216 12218 12222 12232 12255\n",
      " 12257 12269 12307 12326 12365 12424 12450 12467 12598 12610 12617 12623\n",
      " 12629 12634 12659 12675 12715 12721 12722 12754 12756 12811 12832 12833\n",
      " 12840 12853 12868 12890 12924 12926 12937 12977 12983 12992 13004 13016\n",
      " 13019 13025 13050 13053 13070 13136 13197 13222 13225 13230 13237 13286\n",
      " 13378 13398 13402 13507 13537 13542 13560 13607 13633 13646 13703 13833\n",
      " 13836 13854 13883 13887 13889 13898 13913 13929 13940 13963 14003 14014\n",
      " 14067 14124 14128 14139 14154 14200 14216 14217 14221 14234 14253 14283\n",
      " 14331 14340 14346 14356 14395 14401 14429 14463 14477 14545 14548 14561\n",
      " 14571 14600 14615 14657 14665 14684 14756 14824 14839 14926 14946 14965]\n",
      "TRAIN: [    0     1     2 ... 14996 14997 14998]\n",
      "TEST: [   62    64    76    80    97   128   133   142   148   175   182   240\n",
      "   242   246   259   327   396   411   475   491   517   565   578   596\n",
      "   614   637   653   696   728   751   761   775   802   833   838   848\n",
      "   872   894   896   918   931   958   964   974  1027  1076  1085  1096\n",
      "  1097  1104  1119  1139  1155  1210  1214  1223  1246  1248  1270  1302\n",
      "  1481  1537  1550  1623  1715  1726  1738  1778  1790  1795  1844  1865\n",
      "  1901  1909  1924  1932  1934  1977  1988  1997  2006  2019  2069  2078\n",
      "  2120  2167  2172  2187  2190  2206  2216  2217  2230  2232  2288  2298\n",
      "  2299  2308  2314  2318  2362  2366  2371  2399  2400  2410  2430  2468\n",
      "  2469  2475  2509  2516  2519  2547  2565  2674  2683  2723  2728  2793\n",
      "  2798  2807  2809  2829  2845  2852  2858  2907  2924  2934  2954  2988\n",
      "  2992  3042  3085  3099  3110  3115  3171  3184  3216  3245  3249  3258\n",
      "  3283  3288  3289  3347  3377  3387  3392  3431  3454  3455  3457  3499\n",
      "  3550  3554  3601  3605  3652  3690  3696  3697  3714  3777  3856  3871\n",
      "  3877  3881  3916  3936  3987  3994  4015  4032  4063  4070  4144  4154\n",
      "  4187  4201  4209  4223  4226  4234  4235  4259  4307  4323  4362  4402\n",
      "  4409  4413  4426  4456  4457  4462  4494  4517  4535  4540  4566  4568\n",
      "  4580  4587  4623  4656  4663  4733  4791  4804  4846  4857  4868  4876\n",
      "  4936  4945  5070  5088  5095  5142  5223  5224  5225  5233  5249  5281\n",
      "  5289  5293  5337  5358  5388  5389  5397  5483  5501  5515  5598  5606\n",
      "  5622  5623  5661  5689  5705  5720  5748  5767  5768  5770  5774  5801\n",
      "  5829  5894  5895  5897  5911  5947  5998  6010  6016  6055  6066  6107\n",
      "  6114  6194  6249  6286  6291  6315  6345  6358  6364  6383  6388  6389\n",
      "  6441  6449  6466  6500  6574  6580  6588  6592  6593  6620  6649  6708\n",
      "  6749  6758  6767  6813  6829  6901  6927  6950  6972  6985  6986  6988\n",
      "  7009  7048  7067  7092  7144  7171  7190  7196  7276  7306  7370  7390\n",
      "  7406  7422  7433  7469  7470  7478  7493  7559  7610  7620  7624  7663\n",
      "  7682  7697  7712  7720  7732  7738  7854  7865  7936  8025  8037  8042\n",
      "  8062  8081  8105  8123  8139  8152  8159  8204  8239  8259  8279  8295\n",
      "  8298  8377  8385  8395  8396  8445  8482  8502  8528  8560  8572  8614\n",
      "  8635  8670  8702  8712  8715  8751  8779  8782  8807  8817  8848  8849\n",
      "  8884  8915  8964  8973  8988  9030  9037  9044  9046  9054  9101  9126\n",
      "  9141  9143  9152  9153  9201  9209  9213  9224  9248  9251  9299  9318\n",
      "  9331  9335  9445  9458  9475  9481  9570  9576  9590  9624  9631  9700\n",
      "  9713  9780  9781  9803  9889  9909  9921  9937  9946  9969  9993 10001\n",
      " 10015 10083 10095 10126 10163 10179 10184 10191 10209 10215 10247 10255\n",
      " 10261 10263 10283 10342 10349 10353 10409 10444 10485 10526 10527 10540\n",
      " 10562 10576 10586 10596 10604 10625 10662 10719 10721 10727 10751 10757\n",
      " 10785 10809 10830 10856 10907 10921 10928 10944 10953 11005 11058 11119\n",
      " 11134 11152 11174 11182 11190 11237 11251 11311 11392 11413 11430 11453\n",
      " 11522 11527 11539 11601 11602 11615 11665 11682 11690 11699 11708 11723\n",
      " 11744 11785 11828 11849 11858 11875 11880 11950 11980 12009 12072 12118\n",
      " 12124 12132 12209 12309 12342 12429 12468 12484 12538 12620 12642 12670\n",
      " 12716 12741 12752 12757 12758 12770 12784 12787 12792 12797 12848 12933\n",
      " 12951 12957 12968 13029 13031 13116 13134 13175 13258 13288 13331 13393\n",
      " 13399 13442 13451 13466 13477 13530 13544 13590 13649 13661 13690 13705\n",
      " 13778 13809 13863 13911 13912 13960 13991 13997 14035 14051 14053 14060\n",
      " 14080 14102 14108 14132 14153 14184 14203 14215 14241 14265 14307 14311\n",
      " 14321 14354 14362 14371 14481 14511 14536 14554 14577 14639 14731 14742\n",
      " 14758 14803 14805 14817 14823 14855 14856 14916 14942 14943 14961 14964]\n",
      "TRAIN: [    0     1     2 ... 14996 14997 14998]\n",
      "TEST: [    6    54    59    65   105   131   139   141   156   171   178   189\n",
      "   209   251   253   264   304   325   344   347   355   376   394   425\n",
      "   433   447   452   509   528   530   535   542   591   615   715   731\n",
      "   743   749   785   863   890   911   917   924   927   928   940   979\n",
      "  1035  1065  1067  1092  1105  1114  1121  1151  1172  1191  1201  1301\n",
      "  1348  1360  1370  1460  1502  1509  1517  1577  1581  1583  1595  1601\n",
      "  1605  1610  1662  1712  1719  1748  1756  1791  1794  1843  1872  1875\n",
      "  1887  1893  1908  1925  1985  1996  2009  2013  2045  2049  2067  2068\n",
      "  2136  2180  2208  2233  2246  2343  2344  2373  2412  2420  2425  2440\n",
      "  2456  2474  2494  2501  2582  2590  2635  2676  2687  2691  2695  2715\n",
      "  2716  2752  2780  2825  2862  2885  2894  2923  2946  2986  2991  3004\n",
      "  3032  3038  3175  3176  3265  3276  3282  3303  3322  3381  3429  3440\n",
      "  3443  3467  3586  3624  3625  3664  3669  3680  3737  3788  3837  3857\n",
      "  3873  3891  3903  3924  3929  3935  3951  3988  4005  4017  4030  4047\n",
      "  4052  4088  4111  4139  4140  4142  4143  4186  4208  4215  4225  4247\n",
      "  4269  4295  4297  4299  4321  4335  4345  4354  4360  4408  4411  4421\n",
      "  4496  4521  4603  4652  4657  4666  4672  4674  4679  4694  4707  4749\n",
      "  4777  4866  4869  4875  4877  4898  4903  4939  4953  4964  5002  5030\n",
      "  5059  5080  5120  5158  5166  5171  5176  5206  5216  5221  5239  5266\n",
      "  5272  5283  5291  5306  5317  5325  5332  5352  5387  5419  5442  5510\n",
      "  5518  5543  5545  5557  5641  5659  5714  5726  5736  5779  5816  5840\n",
      "  5862  5867  5874  5913  5952  6035  6048  6054  6170  6179  6216  6243\n",
      "  6337  6356  6372  6452  6463  6482  6529  6589  6688  6703  6724  6729\n",
      "  6730  6797  6798  6823  6859  6886  6887  6937  6939  6967  6999  7026\n",
      "  7034  7125  7132  7188  7189  7197  7200  7204  7209  7268  7329  7372\n",
      "  7393  7414  7416  7419  7463  7471  7475  7480  7496  7497  7519  7527\n",
      "  7530  7562  7603  7643  7654  7710  7719  7752  7753  7758  7842  7899\n",
      "  7925  7934  7952  7976  7977  8009  8015  8043  8044  8054  8063  8072\n",
      "  8087  8102  8141  8217  8236  8256  8309  8343  8419  8426  8441  8443\n",
      "  8453  8469  8473  8531  8584  8624  8628  8634  8639  8645  8658  8672\n",
      "  8703  8743  8775  8803  8861  8869  8907  8908  8930  8933  8937  8974\n",
      "  8977  8978  9005  9008  9161  9173  9174  9223  9274  9276  9310  9324\n",
      "  9360  9363  9364  9387  9409  9414  9417  9441  9484  9499  9562  9654\n",
      "  9684  9711  9718  9825  9855  9868  9875  9911  9913  9931  9933  9953\n",
      "  9956  9973  9977  9978  9988  9994  9996 10050 10072 10093 10155 10173\n",
      " 10178 10254 10276 10316 10333 10380 10390 10420 10440 10456 10458 10468\n",
      " 10493 10496 10684 10746 10839 10846 10855 10916 10934 10940 10975 11023\n",
      " 11031 11059 11060 11078 11081 11099 11187 11193 11201 11202 11246 11279\n",
      " 11306 11350 11371 11397 11406 11443 11446 11450 11511 11549 11582 11620\n",
      " 11638 11640 11663 11673 11729 11780 11784 11803 11834 11837 11851 11854\n",
      " 11866 11868 11871 11898 11902 11914 11915 11934 11992 11997 12037 12044\n",
      " 12065 12091 12107 12130 12139 12162 12203 12227 12238 12279 12321 12350\n",
      " 12353 12360 12406 12433 12442 12497 12581 12583 12601 12614 12645 12654\n",
      " 12661 12687 12749 12767 12774 12813 12814 12823 12849 12900 12907 12927\n",
      " 12950 12970 12995 13045 13072 13083 13084 13131 13133 13201 13214 13246\n",
      " 13299 13337 13341 13416 13441 13509 13520 13550 13605 13612 13629 13685\n",
      " 13716 13721 13769 13815 13819 13825 13832 13875 13895 13975 13986 13989\n",
      " 14058 14120 14125 14150 14182 14193 14243 14263 14309 14367 14373 14422\n",
      " 14427 14432 14544 14574 14595 14605 14653 14667 14674 14698 14741 14784\n",
      " 14787 14797 14829 14849 14852 14866 14889 14904 14930 14933 14936 14971]\n",
      "TRAIN: [    0     1     2 ... 14996 14997 14998]\n",
      "TEST: [   23    42    86    94   106   134   165   177   213   218   234   250\n",
      "   276   282   333   349   350   370   532   577   601   602   603   608\n",
      "   619   660   669   709   752   810   868   887   922   935   951   957\n",
      "   968   969  1000  1009  1029  1040  1066  1078  1102  1127  1161  1171\n",
      "  1208  1232  1244  1267  1268  1290  1292  1294  1306  1313  1372  1408\n",
      "  1454  1466  1478  1496  1500  1538  1585  1608  1640  1647  1713  1749\n",
      "  1775  1779  1816  1853  1861  1869  1877  1878  1919  1921  1923  1938\n",
      "  2002  2005  2016  2042  2043  2060  2091  2097  2103  2111  2114  2174\n",
      "  2183  2186  2241  2289  2320  2345  2437  2454  2470  2588  2601  2611\n",
      "  2623  2647  2654  2693  2702  2712  2729  2781  2782  2801  2818  2826\n",
      "  2838  2839  2879  2893  2928  2967  2984  3051  3106  3109  3113  3169\n",
      "  3344  3355  3370  3396  3402  3408  3458  3544  3583  3594  3630  3653\n",
      "  3701  3707  3708  3736  3739  3767  3794  3804  3806  3838  3869  3886\n",
      "  3892  3943  3976  3998  4011  4025  4053  4060  4074  4090  4099  4135\n",
      "  4149  4179  4181  4237  4253  4306  4313  4357  4410  4485  4550  4553\n",
      "  4608  4662  4684  4690  4697  4708  4711  4771  4780  4806  4810  4826\n",
      "  4835  4915  4941  4957  4971  4992  5027  5072  5085  5091  5130  5157\n",
      "  5179  5188  5312  5324  5413  5438  5441  5465  5467  5507  5512  5523\n",
      "  5529  5540  5627  5650  5652  5710  5728  5756  5764  5773  5788  5804\n",
      "  5845  5886  5893  5909  5910  5916  5917  5941  5942  5963  6021  6041\n",
      "  6086  6091  6098  6129  6133  6142  6150  6189  6196  6261  6271  6334\n",
      "  6353  6373  6379  6391  6443  6510  6530  6538  6549  6666  6674  6706\n",
      "  6715  6774  6807  6832  6854  6860  6876  6878  6914  6930  6957  6984\n",
      "  7053  7072  7089  7102  7103  7133  7149  7177  7191  7213  7221  7235\n",
      "  7242  7272  7274  7334  7401  7426  7436  7449  7468  7476  7482  7512\n",
      "  7529  7553  7580  7621  7684  7701  7704  7780  7796  7866  7869  7907\n",
      "  7978  7980  7990  8020  8077  8094  8095  8107  8120  8133  8145  8156\n",
      "  8175  8211  8238  8244  8260  8306  8355  8437  8458  8483  8558  8607\n",
      "  8660  8667  8717  8771  8800  8834  8857  8862  8876  8887  8889  8909\n",
      "  8950  8987  8998  8999  9007  9025  9059  9061  9092  9145  9158  9170\n",
      "  9187  9206  9222  9229  9279  9281  9290  9298  9317  9396  9476  9505\n",
      "  9516  9519  9530  9541  9552  9561  9581  9592  9597  9611  9676  9729\n",
      "  9736  9791  9801  9820  9841  9844  9857  9866  9885  9908  9912  9914\n",
      "  9929  9970 10003 10023 10024 10057 10096 10104 10111 10114 10158 10174\n",
      " 10188 10192 10224 10243 10268 10293 10330 10340 10382 10386 10395 10410\n",
      " 10428 10436 10488 10528 10558 10569 10572 10612 10649 10673 10675 10677\n",
      " 10708 10716 10718 10735 10760 10776 10808 10816 10887 10914 10986 11020\n",
      " 11052 11128 11223 11224 11233 11248 11256 11292 11317 11332 11377 11381\n",
      " 11383 11388 11508 11515 11543 11574 11583 11666 11676 11741 11771 11791\n",
      " 11792 11809 11885 11892 11912 11941 11946 11952 11957 11976 11987 12002\n",
      " 12079 12096 12108 12134 12151 12153 12165 12224 12245 12253 12288 12335\n",
      " 12374 12401 12423 12471 12517 12543 12571 12608 12628 12677 12809 12850\n",
      " 12860 12876 12885 12905 12925 12963 12998 13002 13006 13038 13055 13075\n",
      " 13123 13152 13210 13221 13241 13277 13300 13327 13342 13367 13383 13467\n",
      " 13483 13585 13604 13617 13624 13632 13693 13698 13755 13768 13776 13784\n",
      " 13792 13794 13801 13808 13857 13862 13932 13952 13974 13981 13998 14024\n",
      " 14041 14047 14049 14061 14070 14076 14104 14106 14159 14161 14168 14214\n",
      " 14238 14245 14285 14294 14310 14333 14345 14387 14423 14446 14458 14527\n",
      " 14539 14547 14550 14573 14587 14608 14629 14632 14650 14688 14706 14730\n",
      " 14739 14773 14815 14821 14822 14827 14835 14858 14917 14925 14983 14991]\n",
      "TRAIN: [    0     1     2 ... 14996 14997 14998]\n",
      "TEST: [   31    82   101   104   190   203   229   279   280   285   286   296\n",
      "   309   313   318   385   387   388   390   395   407   413   423   443\n",
      "   450   459   472   492   551   563   573   650   690   702   842   853\n",
      "   960   961   978   994  1056  1112  1166  1167  1175  1222  1239  1257\n",
      "  1287  1296  1312  1345  1350  1386  1389  1404  1433  1440  1443  1446\n",
      "  1485  1493  1499  1513  1546  1551  1559  1582  1658  1667  1689  1705\n",
      "  1723  1724  1730  1745  1796  1801  1803  1820  1823  1830  1838  1841\n",
      "  1897  1904  1911  1940  1961  1968  2050  2057  2101  2106  2113  2119\n",
      "  2189  2204  2255  2274  2278  2322  2333  2347  2351  2408  2421  2451\n",
      "  2525  2539  2545  2558  2605  2609  2651  2665  2681  2705  2710  2722\n",
      "  2745  2848  2895  2899  2901  2911  2940  3002  3011  3031  3037  3047\n",
      "  3048  3062  3064  3070  3077  3100  3131  3178  3301  3386  3397  3423\n",
      "  3473  3526  3546  3560  3562  3564  3579  3580  3582  3622  3678  3712\n",
      "  3753  3786  3791  3823  3832  3835  3840  3854  3860  3901  3926  3947\n",
      "  3960  3980  4012  4078  4086  4122  4138  4148  4166  4169  4222  4240\n",
      "  4245  4250  4254  4285  4442  4454  4497  4512  4519  4537  4613  4626\n",
      "  4628  4655  4659  4671  4693  4695  4729  4735  4737  4779  4788  4839\n",
      "  4863  4873  4899  4923  4929  4952  4958  4970  4985  5044  5081  5092\n",
      "  5093  5122  5135  5167  5207  5252  5257  5284  5315  5395  5426  5452\n",
      "  5495  5554  5570  5631  5633  5634  5662  5674  5698  5778  5851  5870\n",
      "  5958  5981  6038  6046  6062  6070  6087  6103  6144  6162  6169  6180\n",
      "  6184  6199  6239  6252  6255  6320  6322  6324  6403  6421  6459  6487\n",
      "  6494  6498  6499  6518  6597  6614  6630  6631  6696  6718  6732  6733\n",
      "  6769  6836  6883  6908  6936  6938  6980  6993  7003  7006  7047  7113\n",
      "  7201  7214  7253  7279  7291  7293  7294  7308  7330  7392  7411  7446\n",
      "  7454  7491  7537  7549  7552  7572  7586  7588  7613  7631  7689  7693\n",
      "  7694  7700  7746  7763  7825  7858  7885  7964  7994  8065  8097  8147\n",
      "  8172  8199  8214  8282  8339  8360  8365  8384  8389  8422  8438  8598\n",
      "  8618  8630  8647  8754  8815  8827  8892  8931  8949  8967  9014  9022\n",
      "  9034  9079  9118  9134  9160  9183  9241  9285  9302  9382  9463  9501\n",
      "  9523  9524  9548  9563  9594  9609  9628  9635  9645  9653  9663  9672\n",
      "  9701  9748  9763  9784  9789  9798  9802  9835  9928  9950  9979  9980\n",
      " 10014 10071 10110 10122 10128 10143 10200 10205 10213 10220 10241 10275\n",
      " 10299 10346 10387 10389 10411 10460 10506 10524 10590 10643 10659 10664\n",
      " 10688 10712 10728 10749 10772 10796 10840 10868 10884 10913 11011 11012\n",
      " 11016 11043 11049 11071 11102 11133 11145 11155 11221 11230 11242 11247\n",
      " 11258 11269 11285 11334 11349 11370 11416 11478 11492 11497 11506 11516\n",
      " 11546 11547 11551 11562 11581 11591 11604 11605 11662 11664 11677 11679\n",
      " 11683 11694 11763 11766 11775 11776 11788 11811 11814 11819 11833 11862\n",
      " 11877 11890 11935 11959 12030 12034 12049 12062 12110 12140 12196 12202\n",
      " 12205 12229 12231 12251 12283 12308 12339 12412 12422 12466 12477 12485\n",
      " 12570 12584 12597 12636 12647 12700 12730 12731 12753 12807 12818 12826\n",
      " 12858 12967 12973 13021 13035 13042 13097 13111 13168 13177 13198 13207\n",
      " 13215 13268 13306 13308 13324 13353 13469 13470 13524 13549 13591 13598\n",
      " 13603 13634 13647 13651 13665 13683 13718 13728 13730 13734 13740 13744\n",
      " 13756 13762 13781 13782 13834 13849 13902 13931 13947 13988 14015 14034\n",
      " 14065 14068 14071 14073 14144 14170 14205 14210 14212 14228 14248 14262\n",
      " 14319 14343 14436 14449 14473 14480 14483 14496 14502 14549 14564 14581\n",
      " 14596 14625 14644 14645 14661 14679 14680 14686 14700 14734 14736 14755\n",
      " 14767 14769 14802 14830 14836 14845 14854 14877 14891 14977 14986 14990]\n",
      "TRAIN: [    0     1     2 ... 14995 14996 14998]\n",
      "TEST: [   28    73   119   195   228   334   358   363   400   419   421   442\n",
      "   489   499   510   516   561   582   593   659   663   676   685   721\n",
      "   757   789   815   822   859   881   948  1006  1011  1022  1036  1041\n",
      "  1068  1107  1142  1143  1144  1157  1180  1183  1186  1333  1340  1342\n",
      "  1368  1376  1383  1422  1439  1449  1486  1498  1532  1564  1599  1650\n",
      "  1703  1704  1805  1864  1891  1895  1972  1993  1995  2082  2085  2130\n",
      "  2149  2150  2195  2209  2215  2245  2264  2331  2404  2426  2435  2457\n",
      "  2473  2489  2495  2496  2500  2549  2576  2578  2637  2649  2663  2670\n",
      "  2679  2680  2686  2765  2775  2783  2803  2835  2902  2909  2917  2930\n",
      "  2936  2939  2948  2987  2994  2997  3003  3013  3029  3039  3055  3086\n",
      "  3152  3197  3200  3227  3270  3271  3281  3316  3325  3389  3391  3400\n",
      "  3412  3420  3468  3477  3496  3498  3501  3531  3593  3607  3651  3676\n",
      "  3755  3760  3768  3793  3805  3808  3842  3846  3863  3866  3897  3907\n",
      "  3950  3990  4000  4027  4033  4034  4067  4085  4105  4162  4175  4189\n",
      "  4212  4232  4273  4283  4292  4296  4308  4326  4341  4365  4380  4437\n",
      "  4449  4469  4481  4542  4557  4558  4560  4592  4599  4634  4638  4680\n",
      "  4741  4763  4786  4789  4793  4854  4864  4871  4888  4897  5015  5040\n",
      "  5048  5062  5076  5148  5168  5237  5290  5328  5396  5400  5404  5453\n",
      "  5469  5504  5527  5531  5538  5565  5579  5592  5614  5639  5640  5656\n",
      "  5677  5808  5830  5847  5856  5868  5892  5924  5964  6000  6011  6018\n",
      "  6064  6083  6090  6100  6119  6185  6195  6201  6215  6241  6242  6253\n",
      "  6296  6413  6438  6451  6453  6513  6525  6560  6582  6604  6673  6680\n",
      "  6694  6710  6795  6808  6825  6841  6842  6861  6867  6909  6931  6935\n",
      "  6944  6992  7007  7030  7109  7121  7152  7155  7159  7164  7175  7220\n",
      "  7227  7260  7289  7307  7350  7358  7368  7377  7387  7405  7477  7485\n",
      "  7490  7511  7523  7547  7609  7615  7628  7699  7793  7798  7806  7809\n",
      "  7814  7817  7823  7832  7843  7855  7892  7915  7917  7923  7932  7963\n",
      "  8018  8036  8048  8118  8131  8198  8227  8232  8255  8265  8336  8399\n",
      "  8420  8429  8477  8478  8496  8497  8563  8591  8638  8683  8708  8749\n",
      "  8752  8762  8793  8810  8851  8854  8880  8882  8918  8920  8932  8972\n",
      "  8984  9006  9077  9093  9100  9124  9169  9171  9176  9180  9184  9200\n",
      "  9225  9240  9261  9264  9293  9306  9345  9348  9542  9556  9559  9616\n",
      "  9623  9656  9734  9773  9796  9799  9804  9806  9813  9880  9890  9925\n",
      "  9966  9982 10008 10025 10073 10077 10102 10112 10190 10242 10244 10252\n",
      " 10270 10280 10302 10309 10327 10356 10373 10378 10393 10402 10417 10473\n",
      " 10477 10489 10522 10531 10534 10560 10568 10579 10615 10639 10652 10690\n",
      " 10701 10713 10792 10819 10858 10861 10900 10909 10918 10952 10964 10967\n",
      " 10982 11015 11029 11214 11268 11328 11352 11367 11372 11390 11405 11425\n",
      " 11427 11441 11466 11484 11520 11529 11550 11588 11645 11656 11684 11721\n",
      " 11739 11761 11781 11816 11822 11844 11859 11876 11901 11913 11924 11973\n",
      " 11988 11989 12003 12013 12025 12052 12078 12133 12154 12235 12237 12291\n",
      " 12393 12396 12398 12403 12419 12436 12459 12505 12542 12580 12590 12705\n",
      " 12708 12725 12733 12743 12745 12750 12760 12778 12781 12788 12815 12854\n",
      " 12887 12895 12898 12929 12953 12996 13005 13017 13018 13033 13037 13118\n",
      " 13162 13165 13187 13224 13287 13311 13322 13345 13348 13370 13385 13488\n",
      " 13493 13497 13498 13534 13557 13563 13578 13636 13641 13664 13682 13712\n",
      " 13747 13757 13779 13843 13868 13869 13899 13915 13939 13962 14027 14045\n",
      " 14050 14113 14157 14160 14189 14197 14322 14326 14358 14361 14370 14410\n",
      " 14433 14447 14517 14518 14531 14535 14566 14588 14624 14660 14683 14715\n",
      " 14747 14762 14785 14793 14816 14867 14888 14955 14976 14980 14989 14997]\n",
      "TRAIN: [    2     3     4 ... 14996 14997 14998]\n",
      "TEST: [    0     1    21    56   109   150   153   168   169   174   214   295\n",
      "   308   315   338   339   359   365   378   430   437   477   478   494\n",
      "   527   537   548   571   580   594   612   688   720   735   739   774\n",
      "   812   824   855   873   908   909   929   934   966  1010  1024  1039\n",
      "  1044  1072  1083  1099  1148  1154  1168  1185  1203  1224  1225  1260\n",
      "  1288  1303  1308  1332  1343  1394  1399  1419  1426  1430  1431  1444\n",
      "  1447  1451  1458  1555  1570  1629  1639  1660  1702  1752  1773  1798\n",
      "  1868  1949  1952  1953  1973  2055  2088  2157  2210  2244  2282  2303\n",
      "  2329  2367  2395  2402  2441  2450  2484  2537  2593  2610  2639  2648\n",
      "  2661  2736  2767  2779  2814  2820  2890  2900  2921  2953  3008  3022\n",
      "  3093  3148  3164  3174  3206  3254  3257  3261  3284  3285  3287  3291\n",
      "  3306  3354  3359  3365  3373  3393  3504  3513  3518  3539  3573  3585\n",
      "  3643  3667  3731  3770  3783  3795  3801  3809  3810  3844  3870  3908\n",
      "  3945  3977  3991  4009  4024  4043  4072  4127  4131  4141  4165  4171\n",
      "  4172  4204  4249  4328  4334  4385  4386  4407  4429  4446  4479  4499\n",
      "  4524  4586  4644  4647  4654  4675  4692  4851  4885  4912  4931  4997\n",
      "  5035  5043  5082  5141  5174  5192  5307  5313  5326  5349  5356  5361\n",
      "  5363  5410  5446  5448  5449  5474  5478  5490  5526  5564  5574  5625\n",
      "  5683  5711  5739  5744  5765  5771  5789  5842  5865  5880  5987  6072\n",
      "  6111  6120  6176  6186  6193  6213  6290  6307  6310  6325  6335  6351\n",
      "  6390  6399  6407  6410  6426  6432  6440  6491  6493  6512  6610  6623\n",
      "  6675  6685  6690  6695  6699  6722  6741  6756  6760  6772  6869  6881\n",
      "  6924  6949  6952  6960  6990  7020  7029  7031  7038  7096  7117  7136\n",
      "  7140  7150  7160  7161  7167  7174  7186  7194  7234  7271  7277  7297\n",
      "  7324  7327  7348  7395  7460  7472  7500  7551  7575  7590  7595  7611\n",
      "  7706  7733  7739  7751  7762  7777  7853  7860  7944  7951  7954  8001\n",
      "  8029  8057  8060  8082  8086  8157  8190  8197  8222  8225  8234  8288\n",
      "  8318  8337  8348  8448  8597  8608  8692  8706  8713  8736  8737  8757\n",
      "  8778  8786  8799  8829  8860  8890  8906  8914  8961  8985  9012  9035\n",
      "  9072  9074  9084  9129  9137  9156  9194  9195  9208  9226  9228  9258\n",
      "  9284  9287  9292  9300  9329  9341  9352  9356  9431  9432  9437  9447\n",
      "  9465  9468  9485  9549  9572  9646  9667  9675  9715  9731  9732  9751\n",
      "  9823  9845  9847  9856  9894  9906  9945 10013 10070 10108 10127 10132\n",
      " 10176 10199 10216 10235 10301 10367 10384 10407 10447 10463 10478 10479\n",
      " 10494 10539 10542 10640 10646 10738 10750 10758 10761 10849 10853 10882\n",
      " 10886 10899 10929 10951 10965 10981 11100 11107 11148 11163 11166 11168\n",
      " 11192 11200 11208 11298 11395 11403 11448 11451 11454 11459 11482 11488\n",
      " 11499 11504 11541 11609 11622 11671 11687 11697 11709 11724 11745 11746\n",
      " 11750 11768 11795 11888 11899 11908 11977 11985 11993 12004 12007 12018\n",
      " 12041 12042 12050 12066 12087 12094 12098 12099 12114 12158 12164 12174\n",
      " 12192 12213 12223 12239 12264 12280 12290 12301 12314 12363 12444 12479\n",
      " 12480 12507 12508 12524 12528 12551 12569 12605 12619 12622 12640 12644\n",
      " 12646 12664 12694 12703 12718 12738 12740 12775 12789 12790 12805 12820\n",
      " 12866 12912 13008 13051 13120 13124 13146 13151 13159 13195 13204 13220\n",
      " 13231 13253 13254 13261 13347 13391 13397 13403 13420 13422 13433 13445\n",
      " 13446 13449 13474 13489 13491 13547 13565 13579 13606 13673 13675 13708\n",
      " 13717 13752 13798 13802 13811 13829 13842 13873 13885 13900 13930 13948\n",
      " 13995 14009 14062 14088 14099 14115 14123 14143 14175 14183 14192 14260\n",
      " 14269 14282 14288 14392 14394 14404 14460 14472 14503 14592 14593 14643\n",
      " 14646 14662 14672 14675 14677 14708 14740 14786 14832 14937 14970 14974]\n",
      "TRAIN: [    0     1     3 ... 14996 14997 14998]\n",
      "TEST: [    2    24    27    70   167   179   199   208   219   220   241   288\n",
      "   329   336   379   420   424   445   446   457   473   484   495   508\n",
      "   520   569   570   585   586   691   714   718   719   729   837   839\n",
      "   898   906   989   999  1028  1030  1046  1047  1069  1091  1109  1110\n",
      "  1123  1128  1152  1174  1209  1266  1274  1278  1353  1355  1357  1363\n",
      "  1410  1456  1469  1613  1621  1628  1630  1633  1642  1646  1668  1701\n",
      "  1709  1728  1766  1789  1810  1824  1898  2008  2040  2048  2054  2073\n",
      "  2122  2151  2213  2229  2231  2277  2340  2409  2415  2422  2465  2472\n",
      "  2612  2634  2655  2658  2673  2698  2700  2725  2733  2751  2795  2810\n",
      "  2812  2866  2884  2896  2908  2956  2959  2979  3060  3067  3092  3097\n",
      "  3105  3132  3138  3139  3144  3251  3259  3264  3275  3292  3304  3335\n",
      "  3345  3356  3362  3368  3416  3508  3527  3587  3588  3633  3645  3650\n",
      "  3677  3717  3785  3790  3802  3843  3911  3938  3979  3986  3992  3996\n",
      "  4018  4036  4087  4170  4185  4258  4287  4301  4382  4401  4417  4435\n",
      "  4466  4486  4493  4500  4522  4523  4532  4567  4584  4596  4611  4668\n",
      "  4683  4698  4701  4721  4731  4754  4757  4775  4787  4799  4828  4881\n",
      "  4980  5005  5008  5011  5037  5054  5055  5061  5078  5084  5090  5104\n",
      "  5109  5112  5159  5160  5185  5194  5204  5230  5244  5258  5259  5275\n",
      "  5286  5295  5334  5345  5351  5368  5375  5398  5569  5571  5581  5617\n",
      "  5621  5636  5658  5722  5731  5733  5749  5753  5848  5853  5858  5873\n",
      "  5885  5915  5939  5943  5976  5988  6009  6017  6057  6076  6082  6088\n",
      "  6097  6145  6154  6181  6183  6209  6262  6326  6359  6376  6405  6473\n",
      "  6477  6578  6581  6586  6622  6624  6644  6648  6697  6705  6751  6752\n",
      "  6777  6788  6812  6819  6822  6898  6961  6974  6989  6994  7073  7095\n",
      "  7104  7184  7217  7223  7225  7237  7265  7303  7311  7312  7314  7347\n",
      "  7396  7404  7434  7447  7450  7486  7510  7528  7589  7634  7664  7667\n",
      "  7669  7678  7742  7755  7759  7818  7820  7846  7897  7904  7922  7935\n",
      "  7937  7945  7953  8008  8017  8026  8034  8050  8058  8080  8089  8150\n",
      "  8245  8340  8417  8425  8434  8493  8552  8561  8578  8604  8659  8662\n",
      "  8663  8709  8747  8767  8801  8820  8821  8822  8846  8863  8866  8902\n",
      "  8924  8945  8963  9003  9029  9217  9220  9246  9254  9315  9376  9383\n",
      "  9428  9443  9444  9446  9450  9464  9473  9489  9515  9546  9640  9673\n",
      "  9690  9691  9692  9708  9721  9739  9753  9768  9794  9861  9895  9922\n",
      "  9927  9947  9964  9981  9983  9995 10010 10019 10033 10035 10044 10048\n",
      " 10133 10160 10177 10236 10259 10290 10320 10358 10368 10416 10419 10422\n",
      " 10430 10449 10480 10535 10588 10593 10603 10622 10656 10657 10672 10676\n",
      " 10692 10706 10762 10769 10779 10784 10797 10826 10827 10842 10859 10862\n",
      " 10906 10937 10957 11003 11004 11008 11046 11055 11063 11079 11089 11105\n",
      " 11120 11137 11195 11220 11262 11264 11273 11304 11309 11384 11402 11411\n",
      " 11412 11423 11461 11463 11505 11512 11536 11569 11599 11613 11627 11653\n",
      " 11657 11668 11706 11734 11736 11840 11856 11905 11916 11920 11972 11981\n",
      " 12031 12093 12142 12195 12219 12236 12259 12268 12276 12296 12318 12338\n",
      " 12383 12446 12464 12465 12518 12534 12595 12671 12672 12699 12712 12729\n",
      " 12748 12791 12801 12884 12891 12894 12939 12975 12997 13056 13089 13105\n",
      " 13129 13143 13193 13219 13223 13227 13240 13264 13294 13303 13326 13368\n",
      " 13388 13395 13437 13453 13464 13513 13523 13538 13551 13564 13570 13574\n",
      " 13577 13588 13602 13615 13635 13654 13677 13713 13719 13736 13770 13780\n",
      " 13859 13861 13880 13882 13921 13972 14007 14038 14063 14152 14181 14257\n",
      " 14258 14276 14293 14305 14320 14339 14390 14397 14413 14441 14525 14555\n",
      " 14613 14651 14721 14751 14763 14771 14791 14796 14813 14837 14886 14906]\n",
      "TRAIN: [    0     1     2 ... 14996 14997 14998]\n",
      "TEST: [   58    74   118   191   216   238   254   255   274   281   300   303\n",
      "   314   354   391   393   406   418   432   453   470   526   529   564\n",
      "   665   674   700   711   769   771   777   816   819   825   851   856\n",
      "   857   875   891   939   944   950   980   986  1012  1025  1108  1160\n",
      "  1170  1256  1263  1264  1265  1273  1283  1367  1445  1462  1468  1518\n",
      "  1521  1528  1531  1593  1600  1603  1616  1634  1648  1666  1674  1680\n",
      "  1720  1733  1736  1767  1815  1882  1914  1948  1987  1994  2039  2044\n",
      "  2052  2139  2146  2155  2228  2239  2251  2324  2337  2368  2393  2446\n",
      "  2458  2466  2523  2552  2556  2559  2613  2619  2664  2699  2714  2719\n",
      "  2743  2766  2769  2778  2788  2804  2817  2830  2872  2882  2903  2918\n",
      "  2938  2950  2955  2973  2982  2989  2995  3005  3010  3021  3027  3030\n",
      "  3071  3126  3146  3190  3202  3211  3278  3321  3339  3361  3388  3428\n",
      "  3447  3463  3480  3483  3505  3528  3535  3552  3584  3646  3647  3657\n",
      "  3666  3698  3750  3766  3779  3784  3830  3900  3912  4014  4026  4035\n",
      "  4054  4061  4065  4066  4094  4095  4116  4123  4130  4184  4192  4244\n",
      "  4278  4293  4314  4324  4327  4351  4371  4388  4422  4423  4563  4565\n",
      "  4605  4622  4689  4742  4790  4824  4840  4894  4921  4928  4932  4943\n",
      "  4948  4962  4976  5066  5129  5143  5178  5180  5231  5308  5314  5316\n",
      "  5321  5335  5364  5365  5373  5428  5430  5517  5541  5546  5568  5575\n",
      "  5591  5605  5654  5664  5672  5679  5693  5699  5721  5727  5780  5781\n",
      "  5838  5861  5866  5869  5906  5933  5946  5951  5960  6113  6165  6227\n",
      "  6234  6247  6251  6287  6292  6363  6387  6418  6445  6486  6532  6552\n",
      "  6556  6573  6577  6633  6634  6712  6725  6738  6757  6804  6850  6917\n",
      "  6921  6926  6943  6947  6958  7037  7041  7054  7065  7172  7282  7336\n",
      "  7367  7424  7445  7448  7461  7507  7592  7665  7681  7703  7735  7737\n",
      "  7766  7797  7822  7829  7847  7848  7871  7902  7930  7987  8005  8016\n",
      "  8061  8109  8125  8148  8149  8154  8183  8192  8209  8241  8246  8264\n",
      "  8293  8296  8345  8349  8350  8368  8371  8381  8424  8527  8529  8586\n",
      "  8655  8679  8690  8701  8714  8733  8768  8780  8837  8841  8873  8883\n",
      "  8927  8935  8971  8989  9053  9070  9078  9132  9133  9191  9266  9339\n",
      "  9350  9390  9406  9408  9427  9483  9497  9543  9545  9607  9612  9620\n",
      "  9626  9641  9652  9677  9699  9733  9737  9740  9755  9756  9850  9869\n",
      "  9898  9958  9997 10032 10094 10105 10135 10144 10202 10238 10260 10310\n",
      " 10345 10357 10366 10441 10455 10462 10464 10492 10521 10533 10545 10546\n",
      " 10550 10553 10592 10599 10637 10638 10660 10665 10666 10685 10686 10691\n",
      " 10711 10732 10747 10754 10755 10775 10777 10798 10810 10820 10831 10838\n",
      " 10841 10894 10910 10948 10977 10978 10998 11056 11084 11094 11141 11156\n",
      " 11162 11206 11253 11254 11287 11299 11325 11327 11331 11361 11481 11490\n",
      " 11571 11580 11621 11628 11641 11646 11654 11672 11681 11728 11756 11778\n",
      " 11857 11867 11874 11945 11978 11982 12005 12021 12051 12057 12077 12095\n",
      " 12109 12116 12143 12147 12150 12166 12204 12211 12261 12278 12292 12300\n",
      " 12305 12337 12378 12386 12388 12404 12439 12457 12493 12506 12515 12540\n",
      " 12556 12658 12666 12682 12698 12744 12761 12806 12842 12843 12845 12901\n",
      " 12923 12936 12940 12945 12946 13036 13043 13057 13067 13090 13109 13135\n",
      " 13140 13156 13179 13205 13330 13349 13361 13424 13429 13435 13444 13452\n",
      " 13457 13485 13494 13541 13572 13573 13587 13592 13637 13689 13691 13697\n",
      " 13714 13715 13720 13797 13817 13845 13865 13933 13957 13958 14006 14029\n",
      " 14091 14133 14229 14255 14295 14299 14376 14377 14415 14416 14475 14485\n",
      " 14501 14515 14530 14532 14558 14563 14616 14617 14630 14652 14691 14727\n",
      " 14744 14746 14814 14818 14820 14842 14850 14901 14903 14919 14924 14978]\n",
      "TRAIN: [    0     1     2 ... 14996 14997 14998]\n",
      "TEST: [    7    11    14    26    45   140   265   310   362   412   428   441\n",
      "   462   496   501   524   566   595   600   613   631   671   675   677\n",
      "   684   698   733   748   763   800   806   830   840   869   953   975\n",
      "  1071  1098  1176  1195  1282  1298  1358  1395  1417  1450  1490  1533\n",
      "  1597  1671  1679  1686  1732  1772  1811  1834  1847  1858  1867  1874\n",
      "  1890  1910  1936  1956  1981  1986  2022  2023  2032  2047  2079  2116\n",
      "  2123  2129  2154  2158  2170  2191  2247  2295  2302  2321  2326  2355\n",
      "  2376  2432  2439  2443  2467  2548  2553  2579  2580  2598  2604  2633\n",
      "  2638  2666  2675  2711  2790  2860  2889  2892  2916  2927  2969  3009\n",
      "  3026  3028  3080  3102  3108  3128  3140  3142  3157  3183  3205  3215\n",
      "  3239  3319  3324  3341  3346  3348  3360  3409  3410  3415  3449  3494\n",
      "  3512  3514  3515  3516  3522  3551  3556  3572  3577  3598  3603  3608\n",
      "  3620  3642  3685  3688  3699  3702  3723  3725  3734  3741  3752  3764\n",
      "  3772  3775  3789  3803  3833  3855  3875  3925  3939  3942  4056  4097\n",
      "  4124  4129  4213  4228  4268  4303  4394  4400  4434  4459  4505  4556\n",
      "  4601  4645  4649  4696  4705  4718  4723  4738  4755  4756  4807  4811\n",
      "  4825  4831  4900  4926  4951  4966  4983  5003  5067  5140  5203  5229\n",
      "  5234  5333  5360  5374  5392  5439  5480  5519  5530  5552  5559  5589\n",
      "  5635  5637  5719  5760  5790  5800  5803  5811  5818  5834  5846  5850\n",
      "  5852  5912  5923  5936  6014  6015  6026  6047  6063  6085  6095  6109\n",
      "  6134  6138  6147  6156  6188  6237  6256  6260  6285  6294  6305  6331\n",
      "  6332  6338  6339  6374  6422  6439  6447  6460  6476  6521  6569  6579\n",
      "  6637  6638  6657  6660  6698  6702  6735  6750  6782  6817  6835  6857\n",
      "  6872  6877  6892  6915  6916  6995  6998  7010  7052  7068  7091  7168\n",
      "  7180  7211  7231  7239  7257  7263  7315  7365  7384  7385  7400  7443\n",
      "  7451  7464  7546  7564  7570  7577  7582  7605  7607  7641  7740  7760\n",
      "  7800  7805  7810  7838  7873  7880  7883  7940  8002  8039  8108  8111\n",
      "  8122  8176  8179  8243  8258  8292  8303  8329  8333  8361  8387  8411\n",
      "  8461  8487  8494  8500  8507  8521  8547  8556  8669  8686  8691  8696\n",
      "  8700  8725  8772  8784  8809  8818  8842  8864  8899  8959  8981  8997\n",
      "  9032  9057  9130  9136  9139  9165  9190  9338  9370  9438  9442  9459\n",
      "  9466  9478  9511  9525  9535  9550  9578  9580  9596  9615  9634  9639\n",
      "  9661  9668  9683  9741  9745  9805  9812  9836  9863  9892  9955  9957\n",
      "  9965 10005 10036 10037 10076 10134 10157 10167 10189 10211 10212 10230\n",
      " 10266 10298 10354 10369 10404 10427 10431 10452 10471 10476 10498 10508\n",
      " 10513 10536 10617 10710 10720 10740 10752 10759 10773 10806 10812 10817\n",
      " 10869 10885 10919 10984 10987 11002 11014 11035 11038 11076 11095 11103\n",
      " 11123 11131 11147 11160 11212 11275 11284 11303 11319 11323 11347 11353\n",
      " 11366 11396 11401 11420 11431 11439 11442 11493 11513 11524 11535 11555\n",
      " 11564 11578 11655 11705 11735 11793 11796 11805 11942 11944 11948 12012\n",
      " 12067 12082 12119 12136 12169 12175 12233 12265 12274 12323 12334 12344\n",
      " 12364 12486 12510 12586 12594 12615 12655 12686 12706 12720 12726 12735\n",
      " 12796 12800 12803 12844 12855 12856 12902 12928 12954 13041 13059 13082\n",
      " 13087 13101 13110 13119 13126 13147 13148 13150 13154 13190 13213 13248\n",
      " 13305 13379 13421 13434 13447 13459 13463 13525 13552 13554 13576 13584\n",
      " 13597 13614 13618 13694 13701 13702 13726 13737 13761 13766 13805 13926\n",
      " 13927 13968 13969 14019 14079 14089 14119 14163 14171 14202 14242 14298\n",
      " 14302 14338 14360 14383 14396 14403 14407 14420 14457 14488 14493 14509\n",
      " 14538 14578 14584 14623 14647 14681 14725 14759 14809 14810 14857 14864\n",
      " 14872 14878 14884 14896 14908 14912 14921 14941 14959 14962 14963 14985]\n",
      "TRAIN: [    0     1     2 ... 14996 14997 14998]\n",
      "TEST: [    9    30    38    55   110   164   207   210   223   245   249   261\n",
      "   263   328   352   384   429   519   534   560   579   590   618   661\n",
      "   678   699   704   705   710   712   755   758   762   767   784   792\n",
      "   799   801   809   823   841   849   860   878   879   900   983  1020\n",
      "  1033  1050  1053  1075  1080  1125  1131  1147  1156  1184  1204  1238\n",
      "  1275  1276  1291  1314  1318  1324  1334  1349  1405  1420  1453  1474\n",
      "  1476  1545  1548  1556  1561  1563  1576  1606  1654  1698  1718  1734\n",
      "  1740  1747  1758  1761  1812  1848  1856  1866  1871  1888  1920  1939\n",
      "  2015  2020  2066  2099  2104  2182  2199  2225  2250  2259  2317  2330\n",
      "  2375  2382  2401  2416  2433  2455  2491  2512  2520  2527  2562  2570\n",
      "  2599  2628  2653  2656  2678  2701  2703  2724  2753  2815  2851  2871\n",
      "  2906  2912  2944  3151  3153  3161  3170  3220  3226  3317  3326  3430\n",
      "  3435  3459  3465  3484  3529  3530  3534  3611  3675  3679  3687  3721\n",
      "  3748  3771  3811  3876  3896  3910  3922  3957  3974  4016  4029  4031\n",
      "  4040  4044  4080  4083  4096  4147  4193  4202  4227  4230  4231  4242\n",
      "  4252  4277  4294  4322  4336  4369  4375  4381  4440  4444  4495  4501\n",
      "  4515  4525  4536  4547  4562  4564  4590  4591  4594  4602  4616  4618\n",
      "  4646  4660  4665  4687  4740  4745  4747  4748  4770  4803  4820  4838\n",
      "  4841  4880  4887  4891  5071  5098  5106  5111  5117  5126  5132  5150\n",
      "  5219  5248  5253  5264  5299  5339  5370  5383  5421  5582  5583  5584\n",
      "  5588  5593  5607  5609  5655  5694  5715  5738  5763  5806  5855  5877\n",
      "  5884  5927  5944  5948  5956  5992  6031  6068  6075  6081  6117  6231\n",
      "  6298  6299  6314  6340  6377  6396  6429  6468  6481  6508  6551  6566\n",
      "  6621  6643  6671  6704  6731  6734  6781  6789  6790  6796  6800  6809\n",
      "  6826  6831  6864  6922  6941  6955  7004  7014  7032  7064  7080  7105\n",
      "  7119  7153  7165  7166  7183  7203  7215  7216  7232  7244  7281  7346\n",
      "  7361  7391  7399  7441  7489  7501  7518  7520  7533  7542  7543  7574\n",
      "  7601  7618  7657  7722  7761  7767  7799  7801  7819  7875  7896  7910\n",
      "  7911  7918  7941  7959  8004  8014  8076  8083  8112  8161  8174  8191\n",
      "  8213  8252  8261  8271  8356  8357  8491  8554  8564  8568  8573  8612\n",
      "  8649  8719  8766  8781  8783  8791  8795  8859  8867  8877  8960  8968\n",
      "  9027  9041  9062  9063  9112  9172  9189  9297  9304  9320  9362  9392\n",
      "  9405  9410  9467  9502  9518  9648  9680  9689  9738  9776  9783  9815\n",
      "  9834  9877  9883  9884  9960  9963  9999 10011 10030 10051 10087 10123\n",
      " 10196 10198 10222 10237 10246 10250 10262 10265 10281 10285 10300 10335\n",
      " 10383 10438 10443 10454 10487 10511 10551 10552 10583 10610 10636 10647\n",
      " 10650 10674 10687 10698 10736 10768 10780 10783 10795 10804 10832 10857\n",
      " 10908 10922 10932 10950 10996 11096 11139 11164 11175 11196 11215 11225\n",
      " 11278 11313 11346 11404 11424 11435 11510 11557 11596 11619 11695 11767\n",
      " 11820 11829 11970 12048 12061 12073 12083 12112 12126 12137 12145 12176\n",
      " 12212 12244 12247 12302 12328 12333 12345 12352 12366 12402 12414 12449\n",
      " 12455 12458 12482 12547 12589 12593 12600 12609 12631 12637 12678 12689\n",
      " 12691 12695 12709 12719 12819 12836 12862 12869 12881 12959 12981 12982\n",
      " 12986 12991 13048 13081 13121 13122 13128 13171 13196 13263 13280 13325\n",
      " 13339 13350 13362 13363 13381 13390 13404 13405 13411 13431 13484 13518\n",
      " 13545 13548 13582 13608 13631 13696 13704 13722 13850 13884 13891 13941\n",
      " 13949 13956 13971 14008 14025 14040 14085 14097 14127 14141 14236 14273\n",
      " 14315 14325 14349 14366 14368 14379 14385 14389 14409 14437 14465 14467\n",
      " 14490 14491 14520 14533 14553 14557 14580 14603 14634 14720 14735 14768\n",
      " 14772 14775 14777 14781 14792 14800 14819 14848 14863 14913 14949 14982]\n",
      "TRAIN: [    0     1     2 ... 14994 14997 14998]\n",
      "TEST: [    4    20    39    47    60    67    72    79    84   130   143   161\n",
      "   197   206   267   273   316   326   356   431   456   458   480   512\n",
      "   547   574   583   640   666   689   693   773   805   818   831   923\n",
      "  1005  1007  1008  1015  1031  1034  1049  1081  1116  1145  1227  1228\n",
      "  1243  1262  1280  1317  1396  1412  1429  1471  1472  1484  1516  1553\n",
      "  1562  1638  1645  1655  1659  1673  1677  1809  1821  1833  1943  1959\n",
      "  1983  2166  2176  2219  2222  2236  2275  2283  2325  2374  2381  2428\n",
      "  2445  2471  2478  2540  2551  2554  2585  2602  2620  2624  2650  2668\n",
      "  2669  2694  2697  2735  2749  2755  2786  2806  2846  2891  2897  2935\n",
      "  2942  2972  2985  3015  3023  3056  3107  3120  3129  3136  3156  3158\n",
      "  3173  3181  3196  3212  3213  3262  3277  3349  3353  3364  3398  3405\n",
      "  3422  3425  3436  3507  3511  3533  3568  3575  3581  3597  3602  3637\n",
      "  3638  3769  3799  3815  3849  3862  3865  3882  3902  3913  3978  4050\n",
      "  4071  4160  4174  4183  4214  4220  4266  4312  4318  4330  4367  4368\n",
      "  4450  4452  4465  4473  4507  4554  4581  4597  4629  4717  4719  4744\n",
      "  4801  4844  4849  4853  4882  4884  4901  4902  4917  4919  4925  4946\n",
      "  4954  4961  4994  5028  5121  5125  5149  5243  5254  5262  5280  5282\n",
      "  5301  5353  5385  5477  5489  5522  5537  5553  5576  5642  5660  5685\n",
      "  5687  5692  5703  5724  5754  5759  5766  5783  5815  5828  5837  5900\n",
      "  5919  5935  5957  5977  5984  5990  6007  6008  6033  6034  6052  6058\n",
      "  6078  6079  6105  6116  6127  6136  6155  6191  6210  6219  6264  6268\n",
      "  6311  6366  6431  6475  6502  6526  6545  6558  6564  6606  6629  6640\n",
      "  6646  6653  6742  6743  6775  6793  6865  6866  6873  6948  6956  6983\n",
      "  6991  7005  7024  7056  7060  7061  7088  7295  7332  7363  7429  7466\n",
      "  7473  7484  7514  7516  7531  7535  7563  7690  7707  7730  7769  7803\n",
      "  7808  7821  7852  7862  7879  7901  7921  7926  8151  8164  8203  8287\n",
      "  8321  8370  8383  8386  8446  8456  8481  8504  8510  8512  8580  8582\n",
      "  8583  8601  8610  8627  8629  8648  8668  8689  8794  8928  8947  8986\n",
      "  9016  9023  9051  9064  9076  9086  9198  9230  9275  9301  9313  9330\n",
      "  9342  9381  9393  9395  9411  9419  9421  9434  9454  9494  9496  9539\n",
      "  9571  9585  9599  9610  9614  9647  9696  9702  9722  9742  9831  9833\n",
      "  9840  9858  9905  9926  9939  9941  9972  9989  9990 10007 10017 10022\n",
      " 10045 10064 10117 10137 10142 10153 10203 10208 10251 10279 10294 10318\n",
      " 10324 10332 10392 10406 10425 10442 10465 10475 10483 10520 10565 10608\n",
      " 10620 10623 10635 10680 10683 10704 10744 10766 10789 10793 10821 10822\n",
      " 10883 10933 10992 11041 11062 11110 11142 11159 11176 11186 11197 11213\n",
      " 11250 11283 11289 11293 11297 11368 11369 11409 11410 11568 11573 11577\n",
      " 11589 11592 11608 11630 11710 11730 11731 11818 11823 11825 11836 11841\n",
      " 11845 11847 11852 11863 11879 11891 11910 11921 11964 11983 12014 12019\n",
      " 12024 12046 12101 12111 12115 12144 12152 12168 12243 12266 12272 12284\n",
      " 12293 12294 12356 12370 12376 12421 12441 12463 12470 12478 12488 12520\n",
      " 12521 12544 12591 12596 12599 12603 12626 12630 12649 12701 12704 12713\n",
      " 12728 12794 12812 12870 12871 12875 12899 12916 12938 12947 13034 13046\n",
      " 13061 13073 13076 13092 13093 13104 13127 13160 13176 13181 13233 13251\n",
      " 13273 13346 13355 13356 13359 13392 13481 13500 13516 13566 13616 13622\n",
      " 13724 13774 13793 13799 13816 13837 13839 13851 13877 13879 13919 13967\n",
      " 13993 14010 14011 14055 14082 14087 14098 14103 14105 14162 14185 14251\n",
      " 14284 14292 14314 14348 14352 14386 14402 14417 14450 14452 14456 14497\n",
      " 14499 14516 14526 14528 14562 14569 14583 14636 14640 14666 14689 14712\n",
      " 14728 14733 14737 14788 14790 14807 14826 14870 14898 14956 14995 14996]\n",
      "TRAIN: [    0     1     2 ... 14996 14997 14998]\n",
      "TEST: [   91    96   126   151   152   170   194   239   283   342   369   381\n",
      "   389   416   440   467   481   514   541   572   576   606   622   652\n",
      "   655   668   673   727   730   786   788   798   866   874   877   883\n",
      "   886   912   938   943   971   984   985   987  1021  1045  1196  1230\n",
      "  1237  1307  1315  1321  1323  1384  1398  1403  1423  1497  1512  1536\n",
      "  1590  1656  1690  1699  1714  1717  1764  1774  1784  1899  1902  1915\n",
      "  1922  1951  1964  1984  2003  2012  2018  2026  2072  2083  2084  2098\n",
      "  2121  2132  2134  2173  2193  2198  2243  2248  2261  2268  2291  2323\n",
      "  2390  2461  2511  2522  2528  2543  2589  2646  2677  2768  2792  2824\n",
      "  2833  2837  2856  2857  2859  2878  2883  2926  2977  3043  3058  3073\n",
      "  3074  3081  3134  3145  3162  3186  3187  3204  3218  3231  3255  3293\n",
      "  3327  3333  3342  3411  3451  3469  3481  3490  3532  3541  3567  3592\n",
      "  3656  3663  3681  3684  3733  3765  3773  3817  3836  3852  3879  3883\n",
      "  4106  4152  4191  4255  4331  4370  4393  4432  4474  4488  4490  4570\n",
      "  4585  4600  4633  4653  4732  4769  4794  4802  4816  4833  4845  4870\n",
      "  4878  4892  4910  4914  4938  4973  4974  4984  4986  5012  5049  5116\n",
      "  5119  5147  5164  5186  5201  5331  5355  5362  5369  5372  5384  5406\n",
      "  5412  5436  5440  5450  5463  5471  5496  5535  5548  5549  5555  5585\n",
      "  5604  5608  5612  5618  5626  5628  5730  5752  5772  5775  5809  5812\n",
      "  5819  5820  5827  5863  5982  6027  6074  6106  6123  6190  6230  6240\n",
      "  6346  6347  6348  6375  6386  6402  6446  6450  6480  6503  6504  6522\n",
      "  6531  6559  6567  6587  6591  6602  6635  6639  6719  6754  6765  6871\n",
      "  6895  6897  6973  7000  7016  7018  7028  7059  7077  7079  7198  7270\n",
      "  7287  7288  7335  7380  7421  7442  7462  7467  7487  7515  7534  7567\n",
      "  7587  7596  7623  7674  7683  7702  7747  7749  7754  7764  7794  7826\n",
      "  7874  7898  7903  7929  7933  7985  8046  8064  8074  8088  8113  8129\n",
      "  8142  8144  8168  8170  8182  8219  8224  8240  8267  8269  8285  8305\n",
      "  8324  8341  8364  8367  8405  8409  8442  8472  8532  8543  8557  8567\n",
      "  8605  8623  8633  8644  8656  8681  8688  8763  8765  8789  8792  8823\n",
      "  8826  8850  8895  8900  8901  8916  8936  8938  8976  8983  9024  9047\n",
      "  9081  9149  9212  9221  9262  9273  9347  9368  9373  9404  9433  9490\n",
      "  9554  9560  9565  9575  9602  9650  9666  9695  9706  9709  9726  9728\n",
      "  9771  9782  9811  9842  9893  9944  9974  9987 10018 10042 10049 10055\n",
      " 10059 10069 10074 10088 10106 10156 10166 10169 10171 10182 10197 10217\n",
      " 10253 10289 10312 10348 10399 10412 10445 10457 10467 10474 10507 10515\n",
      " 10516 10548 10549 10577 10600 10618 10644 10648 10668 10771 10774 10790\n",
      " 10801 10836 10843 10866 10879 10926 10947 10974 10994 11010 11033 11044\n",
      " 11073 11074 11140 11149 11191 11240 11249 11312 11321 11333 11363 11380\n",
      " 11426 11445 11485 11494 11500 11633 11643 11651 11674 11727 11751 11755\n",
      " 11779 11808 11824 11850 11853 11893 11940 11953 11996 12011 12026 12038\n",
      " 12063 12120 12148 12180 12181 12234 12313 12315 12317 12327 12367 12409\n",
      " 12420 12432 12469 12490 12498 12522 12602 12604 12633 12667 12723 12763\n",
      " 12802 12808 12817 12838 12904 12930 12934 12955 12956 12962 12966 12972\n",
      " 12984 12985 12987 12993 13060 13077 13107 13114 13189 13191 13229 13247\n",
      " 13260 13275 13279 13321 13382 13386 13401 13409 13413 13438 13458 13508\n",
      " 13515 13527 13627 13640 13657 13662 13671 13679 13709 13723 13759 13810\n",
      " 13823 13890 13905 13944 14081 14147 14179 14196 14198 14225 14230 14232\n",
      " 14246 14275 14303 14344 14359 14381 14444 14506 14513 14575 14579 14601\n",
      " 14612 14641 14663 14669 14682 14692 14707 14714 14722 14723 14726 14732\n",
      " 14780 14794 14801 14838 14843 14844 14853 14861 14940 14981 14992 14994]\n",
      "TRAIN: [    0     1     2 ... 14996 14997 14998]\n",
      "TEST: [   95   222   225   247   262   278   311   324   332   337   348   386\n",
      "   408   417   427   466   474   476   498   505   523   556   568   604\n",
      "   634   680   697   703   724   737   858   884   892   947   956   963\n",
      "  1062  1100  1103  1130  1179  1188  1189  1197  1328  1371  1382  1387\n",
      "  1402  1415  1425  1428  1463  1505  1507  1523  1526  1560  1626  1632\n",
      "  1653  1657  1670  1744  1769  1800  1804  1818  1854  1881  1894  1929\n",
      "  1931  1941  2014  2081  2131  2133  2137  2147  2153  2156  2212  2224\n",
      "  2242  2309  2335  2361  2391  2411  2493  2534  2541  2577  2591  2592\n",
      "  2594  2607  2640  2717  2730  2734  2777  2799  2800  2844  2880  2951\n",
      "  2978  3006  3019  3052  3096  3154  3167  3188  3221  3232  3318  3328\n",
      "  3379  3418  3426  3479  3485  3491  3492  3497  3520  3548  3596  3619\n",
      "  3626  3665  3672  3694  3695  3704  3713  3715  3716  3726  3742  3749\n",
      "  3782  3825  3885  3906  3940  4002  4041  4055  4082  4102  4137  4180\n",
      "  4211  4216  4239  4264  4280  4290  4291  4315  4317  4342  4350  4366\n",
      "  4384  4419  4441  4484  4489  4506  4578  4642  4682  4685  4726  4739\n",
      "  4746  4776  4783  4785  4797  4805  4813  4815  4848  4872  4908  4911\n",
      "  4916  4942  4959  4965  5014  5032  5083  5086  5099  5110  5114  5123\n",
      "  5153  5162  5184  5212  5250  5285  5366  5367  5403  5408  5411  5414\n",
      "  5418  5445  5479  5492  5542  5611  5615  5645  5668  5706  5737  5745\n",
      "  5750  5791  5807  5831  5849  5864  5881  5887  5899  5921  5961  5986\n",
      "  5991  5994  6020  6037  6050  6051  6084  6126  6131  6143  6163  6288\n",
      "  6289  6327  6330  6350  6412  6419  6485  6517  6536  6537  6576  6584\n",
      "  6607  6609  6844  6855  6885  6918  6968  6982  7049  7050  7098  7110\n",
      "  7128  7138  7146  7212  7249  7299  7301  7360  7379  7383  7431  7440\n",
      "  7499  7506  7524  7583  7632  7635  7717  7772  7833  7849  7876  7949\n",
      "  7957  7979  7992  8003  8010  8011  8012  8013  8040  8070  8106  8140\n",
      "  8155  8165  8194  8202  8212  8216  8242  8268  8276  8300  8311  8344\n",
      "  8359  8379  8398  8470  8485  8553  8566  8650  8652  8661  8665  8721\n",
      "  8726  8759  8770  8819  8835  8875  8923  9091  9167  9177  9207  9242\n",
      "  9247  9252  9253  9263  9311  9328  9346  9349  9355  9366  9374  9375\n",
      "  9416  9471  9500  9520  9522  9601  9619  9636  9637  9643  9660  9664\n",
      "  9670  9686  9694  9730  9743  9754  9758  9761  9790  9793  9814  9816\n",
      "  9899  9910  9943  9984  9991 10020 10040 10052 10066 10089 10115 10125\n",
      " 10152 10284 10303 10306 10337 10338 10339 10352 10376 10481 10519 10530\n",
      " 10556 10557 10624 10627 10630 10633 10654 10705 10737 10828 10829 10833\n",
      " 10835 10844 10854 10864 10896 10897 10931 10938 10960 10962 10989 10997\n",
      " 11019 11026 11053 11061 11080 11087 11091 11093 11108 11125 11143 11151\n",
      " 11154 11165 11170 11217 11219 11227 11257 11274 11288 11295 11307 11340\n",
      " 11419 11468 11517 11528 11556 11563 11575 11606 11611 11612 11713 11732\n",
      " 11787 11802 11827 11839 11869 11907 11919 11966 12036 12100 12102 12157\n",
      " 12220 12260 12277 12285 12298 12303 12357 12379 12427 12430 12438 12443\n",
      " 12447 12448 12475 12503 12504 12519 12536 12546 12574 12618 12624 12648\n",
      " 12707 12759 12776 12799 12825 12872 12892 12941 12948 12949 13007 13011\n",
      " 13023 13040 13068 13085 13095 13103 13141 13149 13178 13256 13304 13314\n",
      " 13329 13360 13400 13426 13480 13482 13499 13501 13540 13600 13644 13666\n",
      " 13667 13670 13672 13676 13742 13748 13775 13777 13786 13826 13828 13844\n",
      " 13847 13860 13893 13896 13938 13945 13990 14013 14018 14031 14054 14109\n",
      " 14135 14140 14151 14165 14194 14207 14209 14213 14249 14337 14341 14375\n",
      " 14388 14440 14451 14469 14482 14492 14495 14498 14508 14510 14540 14590\n",
      " 14594 14622 14671 14694 14697 14757 14833 14874 14883 14910 14944 14948]\n",
      "TRAIN: [    0     1     2 ... 14996 14997 14998]\n",
      "TEST: [   13    49   108   135   166   173   181   243   248   258   260   275\n",
      "   302   340   375   392   422   426   463   511   557   559   605   620\n",
      "   641   646   647   781   782   804   834   843   895   933   945   946\n",
      "   993  1004  1077  1090  1117  1124  1198  1207  1217  1251  1272  1286\n",
      "  1293  1329  1359  1364  1390  1400  1434  1436  1448  1482  1543  1678\n",
      "  1693  1711  1750  1799  1831  1836  1892  1917  1918  1944  1958  1960\n",
      "  1969  1970  2027  2029  2030  2051  2102  2109  2115  2124  2126  2128\n",
      "  2179  2203  2234  2256  2257  2284  2342  2348  2359  2365  2406  2431\n",
      "  2498  2515  2608  2741  2748  2760  2774  2785  2832  2841  2843  2919\n",
      "  2931  2957  2958  2962  2998  3014  3040  3082  3094  3098  3193  3224\n",
      "  3234  3237  3253  3256  3268  3300  3314  3358  3384  3399  3417  3475\n",
      "  3538  3576  3589  3632  3634  3654  3705  3743  3746  3761  3776  3818\n",
      "  3839  3847  3853  3930  3941  3955  3967  4001  4004  4007  4058  4093\n",
      "  4108  4161  4197  4217  4221  4238  4270  4272  4274  4332  4340  4352\n",
      "  4364  4379  4389  4398  4403  4415  4445  4582  4606  4609  4678  4702\n",
      "  4715  4766  4772  4774  4796  4812  4852  4896  4956  4975  4979  4998\n",
      "  5019  5034  5052  5073  5096  5163  5210  5251  5269  5274  5277  5296\n",
      "  5304  5357  5416  5433  5454  5457  5458  5472  5476  5488  5511  5514\n",
      "  5516  5525  5533  5566  5681  5704  5762  5810  5832  5835  5844  5854\n",
      "  5872  5889  5901  5907  5922  5937  5995  6029  6040  6053  6104  6167\n",
      "  6177  6178  6192  6224  6233  6248  6269  6277  6343  6381  6385  6411\n",
      "  6423  6435  6437  6442  6528  6544  6561  6570  6583  6585  6642  6683\n",
      "  6726  6745  6753  6755  6762  6786  6824  6847  6863  6874  6894  6987\n",
      "  7025  7036  7069  7093  7134  7135  7139  7141  7145  7148  7158  7229\n",
      "  7236  7243  7278  7313  7319  7353  7376  7382  7398  7425  7456  7550\n",
      "  7569  7652  7744  7756  7773  7790  7802  7856  7909  7924  7939  7960\n",
      "  8071  8073  8096  8160  8196  8208  8220  8281  8284  8289  8291  8314\n",
      "  8319  8330  8390  8423  8454  8457  8471  8503  8506  8542  8559  8590\n",
      "  8611  8615  8646  8674  8705  8732  8739  8776  8808  8832  8833  8855\n",
      "  8910  8921  8944  8955  9015  9082  9088  9108  9113  9138  9140  9151\n",
      "  9155  9168  9193  9214  9216  9256  9343  9399  9460  9479  9482  9506\n",
      "  9507  9527  9531  9564  9567  9584  9586  9678  9698  9770  9774  9787\n",
      "  9891  9904  9930 10021 10038 10054 10062 10065 10092 10101 10140 10151\n",
      " 10172 10186 10201 10227 10228 10233 10326 10343 10360 10379 10388 10413\n",
      " 10446 10482 10503 10512 10537 10578 10594 10614 10679 10689 10695 10703\n",
      " 10715 10763 10778 10782 10786 10818 10870 10898 10924 10925 10936 10941\n",
      " 10988 11021 11037 11045 11104 11146 11199 11231 11235 11245 11259 11266\n",
      " 11421 11422 11428 11469 11475 11483 11487 11491 11585 11587 11594 11616\n",
      " 11634 11661 11704 11740 11764 11801 11855 11861 11878 11926 11951 11984\n",
      " 11999 12039 12060 12074 12105 12138 12155 12186 12194 12207 12225 12275\n",
      " 12329 12346 12385 12389 12395 12435 12548 12549 12557 12562 12567 12572\n",
      " 12573 12673 12732 12751 12768 12769 12786 12793 12829 12830 12837 12851\n",
      " 12864 12877 12952 12980 12989 12994 13001 13027 13030 13062 13066 13078\n",
      " 13094 13098 13125 13142 13145 13157 13170 13174 13199 13211 13226 13255\n",
      " 13284 13317 13338 13340 13351 13354 13384 13396 13418 13425 13475 13502\n",
      " 13510 13532 13546 13619 13630 13638 13642 13686 13731 13745 13796 13827\n",
      " 13855 13876 13881 13916 13922 13924 13934 13946 13980 13983 14021 14030\n",
      " 14036 14046 14052 14059 14078 14084 14095 14117 14142 14145 14158 14169\n",
      " 14173 14211 14219 14231 14267 14351 14357 14391 14442 14494 14504 14560\n",
      " 14591 14604 14606 14621 14633 14699 14701 14865 14900 14911 14922 14927]\n",
      "TRAIN: [    0     1     2 ... 14996 14997 14998]\n",
      "TEST: [   83    87    89   100   102   115   129   146   155   172   180   201\n",
      "   266   330   353   444   461   486   488   589   599   621   648   686\n",
      "   695   716   722   726   742   753   760   776   793   796   807   811\n",
      "   871   893   976  1190  1218  1220  1271  1277  1279  1284  1297  1392\n",
      "  1414  1459  1465  1494  1514  1535  1542  1557  1566  1587  1592  1598\n",
      "  1614  1618  1663  1706  1722  1727  1751  1757  1760  1762  1763  1787\n",
      "  1807  1879  1885  1900  1962  1963  1980  1991  2034  2037  2089  2141\n",
      "  2148  2163  2165  2196  2197  2220  2235  2238  2262  2263  2269  2307\n",
      "  2334  2358  2370  2444  2447  2462  2560  2567  2581  2622  2631  2659\n",
      "  2685  2708  2709  2713  2740  2746  2794  2827  2887  2932  2960  2961\n",
      "  2968  3054  3087  3089  3116  3163  3217  3240  3252  3260  3266  3290\n",
      "  3315  3350  3372  3442  3453  3489  3517  3565  3569  3635  3649  3686\n",
      "  3710  3719  3751  3757  3758  3787  3819  3905  3909  3956  3958  3966\n",
      "  3970  3972  3984  3999  4042  4068  4077  4128  4157  4182  4190  4243\n",
      "  4246  4275  4286  4298  4344  4358  4374  4378  4396  4427  4502  4527\n",
      "  4543  4681  4730  4761  4829  4859  4889  4920  4981  4987  4999  5006\n",
      "  5020  5024  5029  5075  5108  5124  5169  5170  5175  5182  5197  5199\n",
      "  5209  5226  5232  5235  5242  5261  5268  5300  5311  5318  5348  5350\n",
      "  5371  5382  5407  5432  5434  5435  5444  5487  5493  5497  5505  5508\n",
      "  5558  5563  5646  5676  5702  5708  5792  5817  5860  5879  5891  5926\n",
      "  5959  6023  6059  6121  6161  6254  6258  6279  6304  6341  6357  6406\n",
      "  6408  6444  6461  6467  6478  6483  6489  6514  6516  6533  6534  6575\n",
      "  6598  6627  6632  6663  6692  6717  6736  6761  6776  6785  6794  6801\n",
      "  6815  6827  6828  6840  6852  6853  6868  6896  6933  6997  7022  7023\n",
      "  7178  7182  7205  7206  7222  7224  7247  7250  7258  7290  7292  7296\n",
      "  7316  7320  7331  7339  7349  7412  7479  7521  7526  7536  7579  7619\n",
      "  7644  7670  7676  7696  7736  7745  7750  7771  7776  7789  7813  7830\n",
      "  7839  7844  7859  7997  8007  8024  8045  8078  8090  8091  8114  8138\n",
      "  8206  8207  8254  8257  8315  8331  8334  8351  8375  8413  8432  8467\n",
      "  8495  8509  8513  8536  8548  8570  8593  8711  8742  8744  8813  8814\n",
      "  8830  8865  8894  8940  8958  8994  9013  9026  9039  9056  9058  9154\n",
      "  9179  9196  9202  9205  9231  9288  9357  9384  9388  9397  9401  9420\n",
      "  9477  9480  9487  9517  9526  9555  9557  9622  9649  9693  9703  9767\n",
      "  9839  9886  9887  9897  9903  9961 10006 10016 10041 10068 10086 10091\n",
      " 10130 10136 10150 10187 10193 10223 10225 10267 10287 10297 10325 10350\n",
      " 10371 10375 10403 10426 10459 10470 10532 10616 10631 10645 10707 10743\n",
      " 10767 10791 10807 10811 10813 10873 10912 10939 10946 10963 11017 11027\n",
      " 11085 11092 11111 11216 11226 11255 11267 11326 11342 11351 11360 11364\n",
      " 11378 11382 11393 11458 11479 11480 11533 11554 11560 11595 11678 11691\n",
      " 11707 11715 11716 11722 11725 11737 11773 11864 11889 11917 11943 11991\n",
      " 11994 12027 12032 12071 12113 12117 12177 12191 12197 12200 12242 12324\n",
      " 12332 12347 12359 12399 12405 12415 12418 12461 12474 12500 12554 12565\n",
      " 12639 12651 12668 12679 12737 12834 12886 12914 12918 12978 12999 13020\n",
      " 13047 13071 13099 13115 13117 13184 13203 13228 13239 13265 13283 13309\n",
      " 13319 13364 13369 13371 13373 13455 13476 13503 13555 13559 13626 13648\n",
      " 13658 13681 13707 13733 13751 13753 13772 13787 13804 13820 13838 13840\n",
      " 13872 13903 13914 13925 13935 13985 14032 14110 14134 14204 14247 14254\n",
      " 14264 14289 14306 14308 14316 14318 14327 14382 14411 14453 14454 14461\n",
      " 14466 14484 14505 14529 14537 14567 14586 14609 14648 14649 14659 14676\n",
      " 14748 14765 14776 14825 14846 14851 14873 14879 14934 14945 14951 14967]\n",
      "TRAIN: [    0     1     2 ... 14995 14996 14997]\n",
      "TEST: [   34    53   124   132   183   205   226   231   232   269   360   374\n",
      "   464   483   521   575   592   623   662   734   736   747   795   865\n",
      "   876   882   936   998  1002  1013  1055  1132  1192  1202  1216  1236\n",
      "  1289  1305  1320  1338  1365  1373  1381  1461  1508  1547  1565  1575\n",
      "  1591  1612  1617  1624  1652  1708  1737  1814  1829  1832  1842  1857\n",
      "  1873  1903  1905  1906  1935  1957  1998  2046  2071  2118  2188  2237\n",
      "  2249  2294  2304  2364  2379  2383  2392  2414  2442  2481  2497  2508\n",
      "  2531  2557  2583  2596  2629  2645  2662  2720  2721  2732  2742  2761\n",
      "  2762  2771  2819  2842  2850  2861  2873  2905  2922  2943  2966  2996\n",
      "  3001  3045  3065  3084  3123  3155  3159  3194  3195  3210  3246  3331\n",
      "  3337  3367  3380  3385  3441  3466  3472  3474  3478  3495  3506  3570\n",
      "  3655  3689  3692  3703  3728  3729  3759  3797  3807  3820  3827  3850\n",
      "  3868  3888  3889  3934  3948  3962  4023  4075  4092  4119  4151  4155\n",
      "  4177  4218  4224  4229  4236  4261  4271  4300  4309  4425  4433  4439\n",
      "  4470  4491  4503  4508  4533  4534  4538  4539  4607  4639  4640  4699\n",
      "  4710  4764  4784  4798  4808  4809  4818  4827  4832  4858  4879  4927\n",
      "  4934  4955  4967  5018  5051  5077  5107  5128  5138  5155  5191  5220\n",
      "  5228  5240  5245  5246  5256  5271  5380  5420  5466  5475  5481  5498\n",
      "  5503  5539  5544  5562  5587  5644  5680  5697  5700  5735  5794  5857\n",
      "  5905  5934  6006  6036  6060  6067  6093  6094  6146  6203  6205  6206\n",
      "  6225  6246  6317  6318  6329  6333  6352  6354  6397  6416  6417  6427\n",
      "  6496  6501  6636  6650  6664  6686  6740  6764  6768  6773  6858  6884\n",
      "  6891  6975  7043  7055  7070  7076  7081  7087  7126  7143  7147  7218\n",
      "  7241  7269  7285  7298  7337  7341  7402  7418  7430  7458  7509  7525\n",
      "  7591  7599  7604  7608  7612  7626  7649  7698  7709  7711  7715  7724\n",
      "  7727  7734  7743  7779  7783  7824  7877  7882  7887  7889  7894  7906\n",
      "  7955  7975  7981  7988  7995  7996  8028  8127  8130  8162  8166  8186\n",
      "  8189  8200  8221  8231  8251  8278  8290  8322  8323  8338  8376  8380\n",
      "  8412  8439  8460  8476  8484  8516  8517  8523  8526  8551  8577  8587\n",
      "  8588  8603  8620  8631  8637  8675  8676  8684  8694  8723  8735  8741\n",
      "  8748  8805  8845  8856  8903  8925  8995  9004  9010  9017  9020  9031\n",
      "  9045  9066  9095  9096  9099  9109  9117  9135  9157  9162  9182  9186\n",
      "  9215  9236  9257  9277  9278  9280  9295  9365  9379  9407  9412  9440\n",
      "  9462  9472  9510  9512  9583  9588  9593  9617  9627  9679  9682  9705\n",
      "  9720  9779  9807  9828  9846  9881  9919  9924  9934  9938  9940  9975\n",
      "  9992 10009 10012 10039 10061 10078 10141 10147 10195 10256 10292 10305\n",
      " 10322 10355 10405 10414 10423 10439 10453 10501 10523 10544 10559 10563\n",
      " 10566 10567 10632 10634 10661 10669 10700 10714 10742 10745 10753 10799\n",
      " 10847 10848 10850 10851 10860 10901 10915 10920 11000 11009 11013 11034\n",
      " 11054 11150 11153 11234 11276 11277 11282 11339 11362 11444 11460 11495\n",
      " 11559 11572 11629 11719 11747 11804 11807 11918 11949 11974 11979 11986\n",
      " 12055 12104 12201 12256 12258 12297 12361 12384 12411 12428 12437 12514\n",
      " 12516 12535 12555 12558 12568 12587 12588 12632 12650 12684 12734 12765\n",
      " 12780 12810 12821 12863 12867 12874 12882 12897 12908 12944 12964 12969\n",
      " 13026 13044 13064 13080 13100 13102 13130 13132 13243 13252 13270 13301\n",
      " 13302 13310 13320 13352 13375 13394 13412 13443 13478 13479 13533 13668\n",
      " 13678 13727 13738 13760 13773 13789 13790 13795 13835 13871 13942 13992\n",
      " 13994 14016 14020 14037 14092 14093 14126 14129 14155 14164 14186 14190\n",
      " 14199 14271 14323 14400 14430 14459 14487 14568 14570 14576 14582 14610\n",
      " 14627 14678 14717 14789 14795 14799 14841 14887 14897 14975 14979 14998]\n",
      "TRAIN: [    0     1     2 ... 14996 14997 14998]\n",
      "TEST: [    5    12    32    46    50    52    88    99   112   116   120   145\n",
      "   159   160   202   230   235   244   294   297   301   341   343   345\n",
      "   366   409   503   567   607   638   672   706   723   744   759   765\n",
      "   787   827   845   932   949   981  1048  1064  1070  1095  1106  1135\n",
      "  1149  1206  1231  1234  1269  1335  1356  1378  1388  1418  1438  1455\n",
      "  1470  1477  1491  1510  1519  1534  1541  1567  1568  1579  1607  1615\n",
      "  1635  1636  1661  1675  1695  1700  1768  1788  1802  1852  1907  1965\n",
      "  2017  2036  2041  2063  2077  2184  2260  2273  2280  2300  2360  2385\n",
      "  2386  2396  2449  2460  2477  2483  2487  2502  2517  2550  2569  2571\n",
      "  2750  2756  2797  2813  2816  2847  2867  2952  3049  3072  3168  3198\n",
      "  3267  3274  3286  3352  3374  3424  3437  3446  3452  3536  3591  3613\n",
      "  3662  3700  3738  3740  3745  3812  3824  3859  3927  3944  3971  4059\n",
      "  4069  4076  4081  4100  4121  4132  4260  4279  4304  4316  4333  4347\n",
      "  4349  4376  4391  4412  4451  4472  4480  4544  4555  4569  4574  4576\n",
      "  4617  4636  4673  4795  4874  4924  4930  4989  4990  5000  5001  5025\n",
      "  5042  5046  5060  5065  5087  5100  5102  5127  5152  5211  5255  5263\n",
      "  5294  5298  5330  5343  5346  5347  5424  5425  5431  5486  5500  5556\n",
      "  5601  5602  5603  5619  5638  5653  5667  5696  5757  5782  5784  5802\n",
      "  5822  5890  5898  5908  5945  5971  6005  6061  6112  6149  6204  6236\n",
      "  6250  6259  6270  6295  6297  6336  6367  6430  6472  6490  6535  6539\n",
      "  6565  6572  6595  6599  6626  6645  6661  6684  6721  6737  6748  6780\n",
      "  6783  6791  6816  6833  6834  6838  6875  6882  6899  6900  6911  6966\n",
      "  6976  6977  7040  7063  7082  7083  7108  7157  7162  7187  7195  7208\n",
      "  7240  7246  7254  7283  7338  7342  7344  7356  7386  7413  7415  7455\n",
      "  7457  7492  7503  7540  7554  7597  7598  7630  7650  7660  7675  7685\n",
      "  7692  7705  7748  7765  7768  7835  7863  7900  7913  7938  7962  7968\n",
      "  7970  7972  7984  7989  7999  8022  8051  8093  8110  8126  8134  8178\n",
      "  8180  8218  8229  8249  8273  8307  8313  8316  8353  8362  8378  8392\n",
      "  8452  8465  8489  8490  8515  8535  8539  8555  8657  8664  8671  8687\n",
      "  8773  8790  8796  8798  8844  8858  8891  8926  8929  8941  8943  8952\n",
      "  8969  8975  9048  9050  9106  9107  9121  9188  9238  9308  9312  9322\n",
      "  9344  9372  9391  9429  9455  9509  9521  9534  9540  9544  9595  9600\n",
      "  9625  9638  9642  9671  9710  9714  9723  9725  9762  9772  9822  9826\n",
      "  9853  9862  9867  9874  9882  9949  9951  9954  9962 10056 10058 10079\n",
      " 10085 10098 10099 10121 10159 10164 10185 10207 10231 10232 10248 10311\n",
      " 10315 10323 10363 10365 10394 10398 10472 10497 10543 10573 10581 10587\n",
      " 10602 10607 10671 10681 10734 10739 10781 10788 10815 10837 10880 10903\n",
      " 10905 10927 10935 10971 11006 11007 11068 11072 11112 11115 11129 11161\n",
      " 11172 11179 11229 11238 11291 11343 11356 11387 11407 11498 11503 11525\n",
      " 11526 11570 11598 11660 11717 11753 11817 11900 11927 11928 11955 12064\n",
      " 12075 12088 12090 12125 12127 12161 12184 12217 12249 12270 12295 12340\n",
      " 12368 12369 12380 12391 12425 12509 12512 12553 12559 12578 12613 12653\n",
      " 12690 12692 12747 12824 12847 12878 12879 12880 12913 12971 13010 13022\n",
      " 13079 13158 13206 13212 13216 13250 13266 13276 13282 13290 13293 13357\n",
      " 13372 13377 13440 13465 13472 13473 13496 13506 13553 13567 13569 13586\n",
      " 13611 13628 13643 13650 13656 13688 13739 13743 13750 13764 13821 13846\n",
      " 13864 13867 13908 13928 13950 13954 13961 13970 13977 14012 14033 14042\n",
      " 14118 14178 14195 14223 14250 14272 14279 14304 14329 14384 14408 14421\n",
      " 14439 14476 14572 14585 14597 14658 14664 14673 14690 14704 14718 14724\n",
      " 14752 14779 14812 14840 14881 14894 14895 14905 14923 14950 14957 14969]\n",
      "TRAIN: [    0     1     2 ... 14996 14997 14998]\n",
      "TEST: [   16    22    68    78   123   187   221   287   292   293   307   322\n",
      "   331   357   368   371   410   449   451   455   465   469   493   506\n",
      "   515   525   533   538   546   554   587   633   635   732   770   821\n",
      "   829   844   852   885   899   915   941   954   962   965   990   992\n",
      "  1018  1052  1118  1129  1141  1162  1165  1178  1219  1240  1316  1385\n",
      "  1427  1488  1520  1578  1586  1631  1649  1665  1683  1707  1742  1780\n",
      "  1912  1946  1975  1979  2007  2011  2053  2062  2074  2075  2080  2160\n",
      "  2168  2169  2175  2181  2207  2226  2253  2258  2266  2267  2287  2296\n",
      "  2312  2341  2353  2403  2413  2417  2427  2429  2436  2485  2490  2499\n",
      "  2504  2535  2572  2586  2606  2626  2627  2643  2657  2696  2727  2776\n",
      "  2808  2822  2840  2849  2875  2886  2904  2914  2947  3034  3035  3044\n",
      "  3057  3121  3130  3137  3180  3201  3230  3296  3297  3329  3340  3378\n",
      "  3438  3439  3509  3540  3542  3561  3563  3571  3578  3629  3639  3668\n",
      "  3671  3683  3691  3813  3831  3845  3872  3874  3887  3904  3959  3965\n",
      "  3968  3981  3997  4008  4019  4021  4038  4098  4114  4200  4205  4310\n",
      "  4319  4329  4373  4377  4395  4468  4483  4498  4510  4526  4528  4548\n",
      "  4559  4575  4579  4583  4615  4669  4677  4714  4727  4758  4760  4800\n",
      "  4843  4909  4940  4950  5016  5031  5058  5069  5097  5101  5183  5187\n",
      "  5202  5241  5273  5297  5310  5322  5359  5462  5528  5534  5536  5577\n",
      "  5590  5613  5616  5669  5684  5691  5732  5742  5747  5777  5785  5796\n",
      "  5799  5824  5826  5883  5888  5914  5925  5973  5993  6003  6024  6025\n",
      "  6065  6089  6148  6158  6159  6171  6175  6245  6272  6300  6301  6344\n",
      "  6360  6362  6380  6454  6474  6479  6484  6497  6506  6524  6596  6608\n",
      "  6617  6625  6709  6727  6744  6770  6787  6806  6906  6920  6964  6979\n",
      "  7011  7066  7078  7099  7115  7120  7142  7163  7226  7228  7230  7366\n",
      "  7371  7378  7437  7483  7558  7568  7578  7625  7639  7642  7648  7662\n",
      "  7672  7713  7716  7851  7878  7914  7946  7965  7986  8038  8052  8069\n",
      "  8132  8135  8226  8272  8280  8304  8335  8347  8352  8363  8374  8391\n",
      "  8394  8415  8418  8428  8480  8488  8518  8537  8538  8549  8569  8596\n",
      "  8622  8653  8678  8693  8698  8731  8746  8802  8816  8872  8881  8896\n",
      "  8919  8951  8965  9002  9011  9033  9055  9097  9105  9116  9127  9128\n",
      "  9164  9181  9192  9249  9259  9282  9289  9367  9380  9424  9486  9491\n",
      "  9492  9498  9533  9547  9551  9566  9603  9604  9606  9629  9662  9681\n",
      "  9707  9749  9777  9795  9800  9849  9865 10063 10080 10170 10272 10273\n",
      " 10278 10291 10361 10370 10372 10377 10381 10396 10400 10433 10451 10504\n",
      " 10509 10514 10538 10555 10591 10613 10629 10663 10699 10717 10730 10733\n",
      " 10741 10765 10787 10814 10878 10892 11050 11086 11114 11121 11185 11194\n",
      " 11305 11335 11338 11400 11437 11452 11456 11471 11476 11579 11610 11614\n",
      " 11623 11644 11649 11650 11652 11680 11688 11698 11700 11714 11748 11765\n",
      " 11777 11789 11821 11870 11932 11954 11975 12054 12086 12173 12185 12187\n",
      " 12221 12267 12287 12348 12351 12372 12434 12452 12487 12511 12550 12563\n",
      " 12575 12576 12585 12606 12607 12641 12676 12680 12681 12736 12739 12771\n",
      " 12852 12883 12889 12909 12910 12943 13012 13013 13024 13054 13063 13137\n",
      " 13139 13144 13155 13194 13200 13242 13259 13267 13291 13312 13328 13358\n",
      " 13365 13460 13505 13517 13528 13529 13562 13571 13609 13659 13674 13699\n",
      " 13700 13710 13711 13735 13754 13830 13848 13870 13904 13906 13909 13920\n",
      " 13955 13984 13999 14005 14044 14074 14083 14107 14130 14166 14188 14191\n",
      " 14201 14222 14239 14256 14261 14274 14281 14342 14398 14406 14419 14424\n",
      " 14443 14455 14470 14471 14489 14556 14565 14635 14654 14710 14774 14783\n",
      " 14834 14862 14869 14871 14882 14929 14932 14938 14947 14958 14966 14987]\n",
      "TRAIN: [    0     1     2 ... 14996 14997 14998]\n",
      "TEST: [    3    10    35    43    71    85    92    93    98   103   107   114\n",
      "   117   121   137   158   176   215   217   291   312   319   361   364\n",
      "   438   518   543   549   552   610   624   627   639   664   670   764\n",
      "   772   780   828   903   907   926   973   977   988   991  1003  1042\n",
      "  1058  1087  1088  1093  1120  1138  1150  1193  1212  1300  1310  1352\n",
      "  1379  1391  1424  1442  1457  1475  1544  1558  1569  1580  1588  1596\n",
      "  1602  1611  1625  1643  1697  1721  1735  1741  1792  1835  1840  1884\n",
      "  1947  1974  2024  2028  2031  2033  2076  2092  2096  2135  2171  2177\n",
      "  2178  2185  2205  2214  2265  2305  2306  2352  2380  2394  2405  2418\n",
      "  2438  2464  2479  2486  2492  2518  2546  2561  2564  2630  2652  2660\n",
      "  2667  2671  2759  2868  2910  2913  2925  2933  2965  2970  2980  3033\n",
      "  3050  3078  3079  3083  3101  3103  3189  3192  3203  3219  3238  3247\n",
      "  3273  3305  3351  3375  3421  3433  3486  3558  3574  3614  3616  3640\n",
      "  3711  3732  3821  3834  3848  3858  3867  3878  3893  3894  3921  3928\n",
      "  3931  3975  3989  3995  4103  4159  4168  4173  4196  4233  4262  4284\n",
      "  4343  4399  4447  4463  4477  4492  4588  4635  4664  4713  4716  4753\n",
      "  4759  4762  4765  4792  4834  4847  4855  4861  4904  4913  4933  4947\n",
      "  4963  4982  4993  5004  5045  5068  5145  5172  5198  5200  5287  5320\n",
      "  5323  5342  5381  5394  5459  5461  5464  5484  5502  5524  5547  5560\n",
      "  5599  5632  5670  5707  5713  5797  5825  5833  5836  5843  5859  5930\n",
      "  5989  5997  6004  6030  6045  6102  6122  6124  6128  6130  6151  6174\n",
      "  6218  6232  6265  6276  6283  6316  6323  6378  6401  6404  6415  6433\n",
      "  6511  6523  6541  6543  6600  6619  6647  6682  6763  6803  6862  6903\n",
      "  6907  6928  6945  6951  6962  6969  6970  6981  7015  7074  7075  7101\n",
      "  7106  7118  7129  7137  7245  7267  7304  7333  7373  7381  7389  7397\n",
      "  7403  7410  7481  7488  7494  7502  7508  7517  7545  7566  7584  7593\n",
      "  7633  7637  7651  7673  7731  7788  7791  7864  7870  7881  7890  7916\n",
      "  7920  7961  7973  7991  7998  8000  8049  8137  8210  8235  8262  8270\n",
      "  8286  8327  8388  8400  8407  8435  8451  8492  8525  8562  8574  8575\n",
      "  8594  8600  8602  8625  8632  8666  8677  8710  8740  8825  8874  8885\n",
      "  8893  8913  8939  8948  8953  8954  8990  9038  9122  9148  9197  9203\n",
      "  9232  9233  9271  9319  9333  9353  9361  9423  9449  9495  9538  9558\n",
      "  9568  9574  9587  9589  9598  9630  9633  9655  9704  9716  9717  9760\n",
      "  9792  9809  9810  9818  9821  9830  9848  9864  9872  9873  9896  9916\n",
      "  9923 10034 10097 10124 10146 10168 10175 10264 10274 10277 10296 10328\n",
      " 10364 10424 10437 10499 10525 10574 10605 10696 10709 10729 10764 10824\n",
      " 10871 10949 10970 10993 11051 11064 11122 11126 11132 11198 11236 11261\n",
      " 11263 11314 11337 11354 11374 11389 11531 11544 11553 11561 11576 11600\n",
      " 11618 11626 11636 11685 11703 11711 11743 11757 11770 11800 11842 11860\n",
      " 11872 11922 11925 11931 11938 12008 12017 12058 12069 12081 12123 12131\n",
      " 12188 12215 12228 12230 12248 12254 12273 12286 12311 12316 12322 12331\n",
      " 12358 12387 12390 12407 12453 12454 12456 12460 12489 12499 12525 12530\n",
      " 12531 12537 12566 12582 12616 12656 12665 12683 12714 12724 12772 12783\n",
      " 12804 12816 12827 12831 12846 12888 12903 12906 12917 12920 12931 12932\n",
      " 12965 12974 13009 13108 13161 13164 13182 13186 13217 13218 13235 13271\n",
      " 13274 13281 13285 13295 13296 13307 13334 13336 13406 13450 13454 13519\n",
      " 13581 13583 13610 13623 13652 13655 13669 13687 13803 13831 13856 13858\n",
      " 13886 13894 13907 13965 13979 13996 14004 14043 14056 14075 14086 14112\n",
      " 14156 14167 14227 14286 14296 14324 14353 14365 14378 14399 14412 14418\n",
      " 14435 14524 14559 14602 14738 14766 14831 14859 14860 14909 14952 14968]\n",
      "TRAIN: [    0     1     2 ... 14996 14997 14998]\n",
      "TEST: [   36    37    48    90   193   224   237   252   277   335   351   402\n",
      "   436   479   490   504   513   540   581   616   617   642   654   679\n",
      "   683   707   708   745   754   756   794   820   832   836   861   862\n",
      "   888   904   921   930   937   997  1014  1016  1060  1061  1082  1113\n",
      "  1115  1226  1229  1235  1254  1259  1281  1295  1327  1344  1346  1354\n",
      "  1473  1489  1492  1503  1525  1549  1554  1672  1691  1710  1739  1754\n",
      "  1765  1777  1806  1822  1825  1826  1851  1859  1926  1967  2001  2093\n",
      "  2094  2105  2107  2108  2140  2270  2272  2336  2338  2349  2350  2363\n",
      "  2372  2378  2384  2388  2524  2530  2542  2563  2600  2615  2644  2747\n",
      "  2758  2763  2789  2796  2805  2831  2855  2869  2877  2963  3012  3059\n",
      "  3061  3068  3075  3076  3088  3111  3122  3214  3242  3244  3280  3295\n",
      "  3299  3308  3311  3330  3371  3383  3401  3403  3404  3406  3413  3456\n",
      "  3460  3471  3476  3500  3606  3610  3615  3618  3623  3706  3744  3756\n",
      "  3781  3796  3826  3864  3884  3890  3895  3919  3920  3932  3937  3949\n",
      "  3969  3985  4010  4013  4020  4045  4057  4062  4109  4136  4146  4158\n",
      "  4194  4203  4219  4241  4257  4289  4305  4346  4387  4418  4448  4458\n",
      "  4464  4475  4620  4625  4648  4658  4661  4670  4720  4724  4767  4782\n",
      "  4814  4819  4837  4883  4886  4906  4918  4935  4969  4977  5021  5050\n",
      "  5053  5063  5064  5089  5105  5118  5151  5156  5173  5193  5205  5217\n",
      "  5222  5260  5309  5327  5329  5336  5376  5379  5386  5399  5422  5470\n",
      "  5506  5513  5532  5663  5695  5701  5712  5716  5717  5734  5743  5751\n",
      "  5769  5786  5787  5814  5920  5938  5955  5962  5966  5975  6001  6110\n",
      "  6135  6152  6157  6197  6229  6267  6280  6328  6349  6398  6400  6488\n",
      "  6505  6547  6548  6563  6590  6605  6615  6654  6659  6720  6805  6843\n",
      "  6849  6879  6890  6934  6946  6959  6978  7001  7017  7045  7107  7173\n",
      "  7192  7255  7259  7280  7284  7359  7407  7408  7435  7438  7452  7474\n",
      "  7560  7561  7571  7638  7655  7668  7726  7741  7787  7811  7850  7884\n",
      "  7891  7912  7928  7943  7950  7958  7993  8023  8068  8098  8099  8100\n",
      "  8103  8121  8215  8253  8277  8308  8310  8346  8354  8402  8404  8416\n",
      "  8449  8455  8474  8475  8508  8514  8520  8541  8546  8565  8576  8619\n",
      "  8641  8804  8828  8847  8852  8868  8888  8962  8980  9018  9019  9043\n",
      "  9085  9089  9123  9131  9204  9210  9219  9243  9244  9291  9305  9334\n",
      "  9337  9358  9400  9415  9452  9469  9528  9605  9659  9665  9744  9764\n",
      "  9797  9824  9838  9851  9936  9942  9986 10028 10029 10082 10129 10138\n",
      " 10149 10210 10226 10362 10374 10391 10469 10484 10564 10570 10667 10678\n",
      " 10852 10874 10876 10945 10968 10979 10999 11032 11042 11069 11113 11167\n",
      " 11173 11183 11189 11203 11205 11209 11218 11271 11308 11310 11379 11394\n",
      " 11414 11417 11429 11433 11467 11472 11473 11496 11567 11584 11603 11617\n",
      " 11624 11637 11670 11686 11689 11720 11726 11733 11752 11760 11815 11848\n",
      " 11886 11894 11923 11947 11962 11965 11971 11990 12080 12085 12092 12146\n",
      " 12226 12241 12252 12271 12289 12299 12312 12330 12392 12400 12476 12494\n",
      " 12501 12523 12526 12541 12592 12625 12657 12674 12688 12717 12742 12746\n",
      " 12755 12822 12828 12835 12839 12857 12859 12861 12865 12873 12921 12990\n",
      " 13015 13065 13113 13166 13232 13236 13238 13262 13289 13292 13344 13380\n",
      " 13415 13436 13461 13462 13495 13556 13558 13589 13593 13594 13613 13621\n",
      " 13625 13663 13692 13729 13767 13788 13791 13814 13822 13853 13964 13987\n",
      " 14002 14023 14026 14048 14072 14111 14121 14138 14146 14149 14172 14220\n",
      " 14237 14266 14268 14297 14336 14355 14393 14425 14426 14438 14462 14486\n",
      " 14512 14543 14551 14589 14626 14631 14638 14656 14685 14702 14713 14716\n",
      " 14764 14770 14806 14828 14868 14907 14914 14915 14920 14960 14972 14973]\n",
      "TRAIN: [    0     1     2 ... 14996 14997 14998]\n",
      "TEST: [   18    81   113   127   162   196   198   289   298   305   382   383\n",
      "   398   403   439   471   497   536   545   550   562   625   643   657\n",
      "   682   692   750   766   778   779   803   817   867   870   880   910\n",
      "   916   970   996  1017  1051  1079  1084  1133  1153  1158  1187  1247\n",
      "  1258  1319  1331  1336  1362  1401  1467  1483  1495  1529  1530  1539\n",
      "  1552  1571  1573  1584  1609  1620  1637  1676  1684  1687  1729  1743\n",
      "  1746  1786  1819  1846  1880  1889  1913  1927  1942  1945  1954  1955\n",
      "  1971  1992  2010  2025  2061  2090  2117  2142  2143  2145  2201  2276\n",
      "  2332  2346  2369  2397  2407  2419  2424  2482  2503  2505  2544  2555\n",
      "  2566  2625  2632  2689  2692  2704  2738  2739  2744  2757  2770  2791\n",
      "  2821  2853  2865  2870  2876  2920  2974  3016  3020  3025  3053  3069\n",
      "  3091  3095  3114  3117  3147  3160  3172  3225  3241  3334  3343  3363\n",
      "  3369  3382  3419  3445  3462  3523  3545  3617  3636  3644  3648  3673\n",
      "  3730  3735  3774  3800  3829  3861  3915  3952  3953  3961  4048  4104\n",
      "  4117  4118  4120  4133  4153  4156  4163  4176  4320  4337  4348  4363\n",
      "  4372  4383  4404  4461  4467  4482  4552  4577  4598  4621  4650  4651\n",
      "  4686  4688  4691  4736  4773  4937  4960  4988  5022  5039  5057  5139\n",
      "  5218  5267  5303  5319  5340  5341  5344  5354  5390  5423  5443  5447\n",
      "  5456  5491  5494  5509  5567  5597  5649  5673  5675  5688  5709  5718\n",
      "  5795  5813  5823  5882  5902  5928  5931  5953  5954  5967  5972  5980\n",
      "  6019  6032  6056  6077  6092  6132  6137  6140  6172  6223  6228  6235\n",
      "  6275  6303  6312  6342  6382  6393  6394  6455  6456  6457  6527  6553\n",
      "  6555  6612  6618  6628  6658  6670  6679  6711  6714  6716  6739  6802\n",
      "  6818  6837  6910  6919  7035  7046  7071  7085  7090  7094  7114  7169\n",
      "  7170  7185  7202  7233  7264  7300  7318  7325  7343  7345  7355  7369\n",
      "  7375  7394  7423  7459  7495  7505  7522  7557  7576  7594  7616  7647\n",
      "  7656  7666  7679  7781  7782  7804  7812  7816  7834  7840  7841  7845\n",
      "  7867  7895  7905  7927  7956  7966  7971  7982  8021  8031  8047  8056\n",
      "  8067  8084  8092  8124  8153  8163  8188  8195  8230  8233  8250  8320\n",
      "  8410  8433  8463  8505  8519  8522  8533  8544  8550  8642  8654  8682\n",
      "  8727  8750  8753  8769  8787  8836  8840  8878  8897  8911  8982  8991\n",
      "  8992  9071  9073  9083  9104  9110  9115  9199  9255  9270  9272  9283\n",
      "  9309  9316  9323  9332  9389  9435  9439  9456  9457  9536  9582  9644\n",
      "  9669  9685  9727  9735  9766  9788  9859  9879  9915  9948  9959  9967\n",
      "  9976 10000 10004 10043 10053 10081 10100 10107 10116 10148 10181 10219\n",
      " 10229 10249 10288 10304 10317 10341 10359 10461 10517 10571 10584 10589\n",
      " 10598 10606 10619 10621 10626 10628 10694 10724 10805 10823 10881 10895\n",
      " 10917 10954 10958 10972 10973 10976 11018 11022 11025 11066 11117 11144\n",
      " 11157 11171 11188 11232 11244 11272 11296 11320 11341 11345 11385 11398\n",
      " 11438 11477 11489 11507 11518 11521 11532 11534 11540 11545 11558 11590\n",
      " 11607 11692 11701 11749 11762 11769 11896 11904 11929 11969 12010 12016\n",
      " 12043 12053 12070 12076 12167 12170 12171 12179 12183 12193 12199 12210\n",
      " 12262 12282 12304 12310 12325 12343 12349 12354 12362 12373 12381 12394\n",
      " 12410 12426 12483 12491 12532 12577 12611 12627 12663 12693 12711 12773\n",
      " 12777 12782 12795 12919 12922 12942 12958 12960 12961 12976 12979 13000\n",
      " 13003 13014 13028 13086 13192 13208 13245 13297 13318 13323 13332 13374\n",
      " 13387 13428 13539 13595 13639 13645 13653 13725 13746 13783 13800 13812\n",
      " 13813 13852 13874 13878 13973 13976 14000 14017 14069 14094 14100 14101\n",
      " 14114 14116 14122 14137 14208 14235 14278 14280 14300 14328 14335 14374\n",
      " 14464 14521 14541 14552 14598 14628 14670 14760 14761 14890 14892 14893]\n",
      "TRAIN: [    0     1     2 ... 14996 14997 14998]\n",
      "TEST: [   25    66   200   204   268   272   367   380   415   434   485   500\n",
      "   502   558   630   645   813   854   905   925   972  1019  1038  1063\n",
      "  1086  1122  1140  1146  1164  1182  1194  1211  1221  1233  1249  1253\n",
      "  1285  1299  1304  1337  1347  1361  1366  1369  1380  1407  1409  1416\n",
      "  1480  1501  1506  1515  1540  1589  1594  1604  1651  1664  1681  1692\n",
      "  1725  1755  1776  1783  1797  1817  1855  1863  1950  1978  2038  2058\n",
      "  2064  2070  2100  2110  2112  2125  2202  2211  2218  2227  2285  2286\n",
      "  2293  2311  2319  2339  2357  2377  2389  2448  2463  2488  2507  2510\n",
      "  2513  2521  2533  2538  2568  2573  2603  2618  2636  2764  2772  2784\n",
      "  2802  2811  2823  2874  2937  2971  2981  2990  3007  3017  3041  3063\n",
      "  3125  3149  3166  3179  3199  3207  3209  3222  3235  3250  3263  3298\n",
      "  3320  3338  3376  3432  3444  3470  3487  3502  3525  3553  3566  3600\n",
      "  3621  3659  3660  3718  3754  3763  3816  3880  3899  3914  3963  3964\n",
      "  3993  4006  4028  4039  4126  4145  4198  4251  4288  4302  4353  4356\n",
      "  4392  4405  4406  4414  4428  4436  4453  4455  4460  4471  4516  4531\n",
      "  4541  4551  4589  4593  4612  4614  4637  4700  4728  4743  4778  4821\n",
      "  4836  4850  4856  4860  4890  4905  4944  4968  5007  5009  5010  5038\n",
      "  5047  5115  5136  5137  5144  5146  5181  5195  5196  5402  5405  5460\n",
      "  5468  5485  5578  5586  5596  5600  5610  5620  5647  5666  5725  5740\n",
      "  5758  5761  5875  5876  5950  5970  5978  6080  6101  6108  6182  6200\n",
      "  6211  6278  6302  6365  6384  6392  6425  6469  6495  6507  6509  6519\n",
      "  6540  6562  6601  6611  6616  6676  6707  6766  6779  6811  6830  6889\n",
      "  6954  6963  7002  7084  7112  7116  7127  7130  7151  7154  7181  7207\n",
      "  7252  7256  7275  7309  7321  7323  7352  7354  7357  7374  7409  7427\n",
      "  7432  7439  7453  7465  7498  7504  7532  7585  7602  7640  7645  7646\n",
      "  7671  7721  7723  7728  7770  7774  7778  7785  7792  7815  7827  7861\n",
      "  7893  7931  7983  8006  8027  8033  8079  8101  8115  8181  8248  8297\n",
      "  8301  8317  8326  8332  8406  8431  8444  8464  8498  8511  8589  8599\n",
      "  8621  8643  8685  8697  8699  8704  8722  8728  8729  8734  8745  8777\n",
      "  8788  8797  8824  8831  8839  8871  8898  8922  8934  8956  8957  8966\n",
      "  9000  9021  9060  9065  9068  9087  9090  9125  9142  9235  9303  9325\n",
      "  9340  9354  9371  9385  9386  9402  9413  9448  9503  9569  9577  9608\n",
      "  9618  9621  9632  9658  9697  9712  9752  9759  9778  9786  9819  9832\n",
      "  9843  9860  9876  9902  9998 10031 10047 10060 10090 10119 10131 10139\n",
      " 10145 10180 10214 10218 10234 10239 10282 10308 10336 10408 10450 10518\n",
      " 10529 10597 10609 10641 10642 10725 10726 10770 10800 10825 10834 10872\n",
      " 10877 10890 10891 10942 10955 10961 10966 11024 11040 11048 11057 11070\n",
      " 11075 11083 11127 11130 11135 11181 11207 11222 11243 11265 11270 11280\n",
      " 11294 11300 11375 11386 11399 11415 11434 11462 11530 11537 11548 11565\n",
      " 11566 11586 11631 11712 11718 11742 11772 11774 11782 11783 11794 11830\n",
      " 11843 11846 11884 11937 11939 11956 11958 11967 11995 11998 12015 12040\n",
      " 12068 12160 12178 12190 12214 12306 12319 12336 12341 12377 12397 12416\n",
      " 12417 12431 12445 12481 12502 12529 12539 12560 12561 12564 12638 12643\n",
      " 12697 12710 12727 12798 12841 12896 12911 12915 12935 13032 13074 13106\n",
      " 13163 13173 13183 13234 13244 13249 13272 13316 13333 13343 13423 13427\n",
      " 13432 13456 13490 13531 13535 13536 13561 13568 13580 13599 13680 13706\n",
      " 13824 13866 13917 13923 13959 14001 14028 14039 14066 14077 14136 14174\n",
      " 14206 14226 14233 14252 14270 14313 14317 14347 14350 14364 14372 14405\n",
      " 14434 14474 14522 14523 14534 14611 14620 14655 14668 14693 14705 14709\n",
      " 14719 14750 14753 14798 14804 14808 14811 14875 14880 14928 14935 14993]\n",
      "TRAIN: [    0     1     2 ... 14996 14997 14998]\n",
      "TEST: [   41    44    63   122   144   147   154   185   188   192   211   233\n",
      "   256   257   270   271   290   320   373   377   397   435   460   522\n",
      "   588   597   598   609   632   658   694   713   717   725   738   740\n",
      "   741   768   835   846   897   913   914   920  1026  1032  1054  1094\n",
      "  1111  1136  1137  1159  1169  1205  1241  1255  1261  1311  1339  1374\n",
      "  1375  1413  1479  1527  1572  1574  1669  1694  1731  1770  1782  1785\n",
      "  1849  1850  1860  1862  1870  1916  1928  1966  1982  1989  1999  2000\n",
      "  2004  2086  2087  2127  2138  2144  2161  2162  2194  2221  2240  2252\n",
      "  2254  2271  2279  2310  2313  2316  2387  2398  2459  2532  2587  2595\n",
      "  2672  2688  2690  2707  2718  2726  2773  2863  2898  2915  2949  2993\n",
      "  2999  3046  3066  3090  3104  3118  3119  3150  3182  3185  3236  3307\n",
      "  3310  3313  3332  3336  3448  3482  3503  3559  3590  3595  3641  3661\n",
      "  3693  3709  3762  3778  3780  3792  3841  3898  3973  3982  3983  4003\n",
      "  4079  4101  4110  4112  4113  4115  4178  4199  4210  4256  4263  4311\n",
      "  4325  4339  4359  4476  4478  4487  4511  4514  4518  4561  4595  4604\n",
      "  4624  4631  4643  4667  4734  4781  4817  4822  4823  4867  4949  4978\n",
      "  4995  5023  5026  5033  5036  5056  5094  5133  5189  5208  5305  5338\n",
      "  5377  5391  5455  5482  5520  5521  5550  5573  5594  5643  5648  5678\n",
      "  5686  5690  5729  5741  5793  5896  5903  5949  5965  5968  5996  6022\n",
      "  6039  6043  6069  6099  6125  6141  6153  6160  6164  6168  6173  6187\n",
      "  6220  6244  6263  6274  6281  6313  6319  6321  6370  6371  6395  6409\n",
      "  6420  6424  6448  6458  6464  6515  6542  6546  6554  6594  6641  6651\n",
      "  6652  6655  6687  6691  6713  6728  6747  6784  6792  6820  6821  6848\n",
      "  6856  6888  6893  6902  6905  6925  6953  6971  7012  7027  7042  7051\n",
      "  7123  7131  7193  7199  7238  7262  7286  7305  7322  7326  7328  7351\n",
      "  7420  7513  7539  7548  7573  7617  7627  7629  7636  7658  7659  7687\n",
      "  7688  7695  7775  7784  7786  7807  7828  7836  7857  7868  7919  7947\n",
      "  7948  7967  8030  8041  8053  8055  8117  8158  8167  8169  8171  8173\n",
      "  8184  8185  8228  8247  8266  8274  8275  8283  8294  8302  8366  8372\n",
      "  8382  8397  8403  8408  8421  8447  8466  8468  8486  8499  8524  8579\n",
      "  8581  8585  8651  8720  8730  8758  8764  8774  8785  8806  8904  8942\n",
      "  8970  8993  8996  9036  9052  9114  9159  9163  9166  9178  9211  9245\n",
      "  9260  9286  9351  9377  9398  9418  9422  9426  9430  9453  9470  9493\n",
      "  9514  9553  9591  9613  9651  9719  9747  9757  9769  9785  9871  9888\n",
      "  9907  9917  9918  9935  9971  9985 10002 10046 10075 10109 10113 10120\n",
      " 10240 10245 10271 10307 10313 10314 10321 10334 10397 10401 10541 10554\n",
      " 10561 10580 10585 10653 10655 10682 10693 10697 10731 10756 10845 10902\n",
      " 10911 10959 10985 11001 11028 11030 11039 11067 11077 11109 11116 11118\n",
      " 11136 11158 11252 11260 11286 11322 11329 11344 11355 11358 11365 11373\n",
      " 11408 11432 11447 11455 11464 11470 11642 11667 11693 11798 11813 11882\n",
      " 11897 11909 11936 11960 11963 11968 12022 12029 12035 12097 12163 12189\n",
      " 12246 12250 12263 12281 12355 12371 12382 12413 12440 12473 12492 12513\n",
      " 12527 12533 12552 12579 12612 12621 12652 12660 12662 12669 12685 12696\n",
      " 12702 12762 12764 12779 12893 12988 13039 13049 13058 13091 13096 13138\n",
      " 13153 13167 13169 13172 13180 13185 13188 13202 13209 13269 13278 13298\n",
      " 13313 13376 13389 13407 13408 13410 13414 13417 13439 13448 13487 13504\n",
      " 13514 13521 13526 13575 13596 13601 13741 13749 13758 13765 13785 13841\n",
      " 13888 13897 13937 13978 13982 14022 14064 14090 14096 14148 14176 14177\n",
      " 14218 14244 14287 14291 14301 14334 14363 14414 14428 14448 14478 14500\n",
      " 14507 14519 14546 14599 14695 14703 14711 14729 14743 14778 14918]\n"
     ]
    }
   ],
   "source": [
    "for train_index, test_index in kf.split(X):\n",
    "    print(\"TRAIN:\", train_index)\n",
    "    print(\"TEST:\", test_index)\n",
    "    X_train, X_test = X[train_index], X[test_index]\n"
   ]
  },
  {
   "cell_type": "code",
   "execution_count": null,
   "metadata": {},
   "outputs": [],
   "source": []
  },
  {
   "cell_type": "code",
   "execution_count": 309,
   "metadata": {},
   "outputs": [],
   "source": [
    "ans = sns.load_dataset(\"anscombe\")\n",
    "# ax = sns.regplot(x=\"x\", y=\"y\", data=ans.loc[ans.dataset == \"II\"],"
   ]
  },
  {
   "cell_type": "code",
   "execution_count": 310,
   "metadata": {
    "scrolled": true
   },
   "outputs": [
    {
     "data": {
      "text/html": [
       "<div>\n",
       "<style scoped>\n",
       "    .dataframe tbody tr th:only-of-type {\n",
       "        vertical-align: middle;\n",
       "    }\n",
       "\n",
       "    .dataframe tbody tr th {\n",
       "        vertical-align: top;\n",
       "    }\n",
       "\n",
       "    .dataframe thead th {\n",
       "        text-align: right;\n",
       "    }\n",
       "</style>\n",
       "<table border=\"1\" class=\"dataframe\">\n",
       "  <thead>\n",
       "    <tr style=\"text-align: right;\">\n",
       "      <th></th>\n",
       "      <th>dataset</th>\n",
       "      <th>x</th>\n",
       "      <th>y</th>\n",
       "    </tr>\n",
       "  </thead>\n",
       "  <tbody>\n",
       "    <tr>\n",
       "      <th>0</th>\n",
       "      <td>I</td>\n",
       "      <td>10.0</td>\n",
       "      <td>8.04</td>\n",
       "    </tr>\n",
       "    <tr>\n",
       "      <th>1</th>\n",
       "      <td>I</td>\n",
       "      <td>8.0</td>\n",
       "      <td>6.95</td>\n",
       "    </tr>\n",
       "    <tr>\n",
       "      <th>2</th>\n",
       "      <td>I</td>\n",
       "      <td>13.0</td>\n",
       "      <td>7.58</td>\n",
       "    </tr>\n",
       "    <tr>\n",
       "      <th>3</th>\n",
       "      <td>I</td>\n",
       "      <td>9.0</td>\n",
       "      <td>8.81</td>\n",
       "    </tr>\n",
       "    <tr>\n",
       "      <th>4</th>\n",
       "      <td>I</td>\n",
       "      <td>11.0</td>\n",
       "      <td>8.33</td>\n",
       "    </tr>\n",
       "    <tr>\n",
       "      <th>5</th>\n",
       "      <td>I</td>\n",
       "      <td>14.0</td>\n",
       "      <td>9.96</td>\n",
       "    </tr>\n",
       "    <tr>\n",
       "      <th>6</th>\n",
       "      <td>I</td>\n",
       "      <td>6.0</td>\n",
       "      <td>7.24</td>\n",
       "    </tr>\n",
       "    <tr>\n",
       "      <th>7</th>\n",
       "      <td>I</td>\n",
       "      <td>4.0</td>\n",
       "      <td>4.26</td>\n",
       "    </tr>\n",
       "    <tr>\n",
       "      <th>8</th>\n",
       "      <td>I</td>\n",
       "      <td>12.0</td>\n",
       "      <td>10.84</td>\n",
       "    </tr>\n",
       "    <tr>\n",
       "      <th>9</th>\n",
       "      <td>I</td>\n",
       "      <td>7.0</td>\n",
       "      <td>4.82</td>\n",
       "    </tr>\n",
       "    <tr>\n",
       "      <th>10</th>\n",
       "      <td>I</td>\n",
       "      <td>5.0</td>\n",
       "      <td>5.68</td>\n",
       "    </tr>\n",
       "    <tr>\n",
       "      <th>11</th>\n",
       "      <td>II</td>\n",
       "      <td>10.0</td>\n",
       "      <td>9.14</td>\n",
       "    </tr>\n",
       "    <tr>\n",
       "      <th>12</th>\n",
       "      <td>II</td>\n",
       "      <td>8.0</td>\n",
       "      <td>8.14</td>\n",
       "    </tr>\n",
       "    <tr>\n",
       "      <th>13</th>\n",
       "      <td>II</td>\n",
       "      <td>13.0</td>\n",
       "      <td>8.74</td>\n",
       "    </tr>\n",
       "    <tr>\n",
       "      <th>14</th>\n",
       "      <td>II</td>\n",
       "      <td>9.0</td>\n",
       "      <td>8.77</td>\n",
       "    </tr>\n",
       "    <tr>\n",
       "      <th>15</th>\n",
       "      <td>II</td>\n",
       "      <td>11.0</td>\n",
       "      <td>9.26</td>\n",
       "    </tr>\n",
       "    <tr>\n",
       "      <th>16</th>\n",
       "      <td>II</td>\n",
       "      <td>14.0</td>\n",
       "      <td>8.10</td>\n",
       "    </tr>\n",
       "    <tr>\n",
       "      <th>17</th>\n",
       "      <td>II</td>\n",
       "      <td>6.0</td>\n",
       "      <td>6.13</td>\n",
       "    </tr>\n",
       "    <tr>\n",
       "      <th>18</th>\n",
       "      <td>II</td>\n",
       "      <td>4.0</td>\n",
       "      <td>3.10</td>\n",
       "    </tr>\n",
       "    <tr>\n",
       "      <th>19</th>\n",
       "      <td>II</td>\n",
       "      <td>12.0</td>\n",
       "      <td>9.13</td>\n",
       "    </tr>\n",
       "    <tr>\n",
       "      <th>20</th>\n",
       "      <td>II</td>\n",
       "      <td>7.0</td>\n",
       "      <td>7.26</td>\n",
       "    </tr>\n",
       "    <tr>\n",
       "      <th>21</th>\n",
       "      <td>II</td>\n",
       "      <td>5.0</td>\n",
       "      <td>4.74</td>\n",
       "    </tr>\n",
       "    <tr>\n",
       "      <th>22</th>\n",
       "      <td>III</td>\n",
       "      <td>10.0</td>\n",
       "      <td>7.46</td>\n",
       "    </tr>\n",
       "    <tr>\n",
       "      <th>23</th>\n",
       "      <td>III</td>\n",
       "      <td>8.0</td>\n",
       "      <td>6.77</td>\n",
       "    </tr>\n",
       "    <tr>\n",
       "      <th>24</th>\n",
       "      <td>III</td>\n",
       "      <td>13.0</td>\n",
       "      <td>12.74</td>\n",
       "    </tr>\n",
       "    <tr>\n",
       "      <th>25</th>\n",
       "      <td>III</td>\n",
       "      <td>9.0</td>\n",
       "      <td>7.11</td>\n",
       "    </tr>\n",
       "    <tr>\n",
       "      <th>26</th>\n",
       "      <td>III</td>\n",
       "      <td>11.0</td>\n",
       "      <td>7.81</td>\n",
       "    </tr>\n",
       "    <tr>\n",
       "      <th>27</th>\n",
       "      <td>III</td>\n",
       "      <td>14.0</td>\n",
       "      <td>8.84</td>\n",
       "    </tr>\n",
       "    <tr>\n",
       "      <th>28</th>\n",
       "      <td>III</td>\n",
       "      <td>6.0</td>\n",
       "      <td>6.08</td>\n",
       "    </tr>\n",
       "    <tr>\n",
       "      <th>29</th>\n",
       "      <td>III</td>\n",
       "      <td>4.0</td>\n",
       "      <td>5.39</td>\n",
       "    </tr>\n",
       "    <tr>\n",
       "      <th>30</th>\n",
       "      <td>III</td>\n",
       "      <td>12.0</td>\n",
       "      <td>8.15</td>\n",
       "    </tr>\n",
       "    <tr>\n",
       "      <th>31</th>\n",
       "      <td>III</td>\n",
       "      <td>7.0</td>\n",
       "      <td>6.42</td>\n",
       "    </tr>\n",
       "    <tr>\n",
       "      <th>32</th>\n",
       "      <td>III</td>\n",
       "      <td>5.0</td>\n",
       "      <td>5.73</td>\n",
       "    </tr>\n",
       "    <tr>\n",
       "      <th>33</th>\n",
       "      <td>IV</td>\n",
       "      <td>8.0</td>\n",
       "      <td>6.58</td>\n",
       "    </tr>\n",
       "    <tr>\n",
       "      <th>34</th>\n",
       "      <td>IV</td>\n",
       "      <td>8.0</td>\n",
       "      <td>5.76</td>\n",
       "    </tr>\n",
       "    <tr>\n",
       "      <th>35</th>\n",
       "      <td>IV</td>\n",
       "      <td>8.0</td>\n",
       "      <td>7.71</td>\n",
       "    </tr>\n",
       "    <tr>\n",
       "      <th>36</th>\n",
       "      <td>IV</td>\n",
       "      <td>8.0</td>\n",
       "      <td>8.84</td>\n",
       "    </tr>\n",
       "    <tr>\n",
       "      <th>37</th>\n",
       "      <td>IV</td>\n",
       "      <td>8.0</td>\n",
       "      <td>8.47</td>\n",
       "    </tr>\n",
       "    <tr>\n",
       "      <th>38</th>\n",
       "      <td>IV</td>\n",
       "      <td>8.0</td>\n",
       "      <td>7.04</td>\n",
       "    </tr>\n",
       "    <tr>\n",
       "      <th>39</th>\n",
       "      <td>IV</td>\n",
       "      <td>8.0</td>\n",
       "      <td>5.25</td>\n",
       "    </tr>\n",
       "    <tr>\n",
       "      <th>40</th>\n",
       "      <td>IV</td>\n",
       "      <td>19.0</td>\n",
       "      <td>12.50</td>\n",
       "    </tr>\n",
       "    <tr>\n",
       "      <th>41</th>\n",
       "      <td>IV</td>\n",
       "      <td>8.0</td>\n",
       "      <td>5.56</td>\n",
       "    </tr>\n",
       "    <tr>\n",
       "      <th>42</th>\n",
       "      <td>IV</td>\n",
       "      <td>8.0</td>\n",
       "      <td>7.91</td>\n",
       "    </tr>\n",
       "    <tr>\n",
       "      <th>43</th>\n",
       "      <td>IV</td>\n",
       "      <td>8.0</td>\n",
       "      <td>6.89</td>\n",
       "    </tr>\n",
       "  </tbody>\n",
       "</table>\n",
       "</div>"
      ],
      "text/plain": [
       "   dataset     x      y\n",
       "0        I  10.0   8.04\n",
       "1        I   8.0   6.95\n",
       "2        I  13.0   7.58\n",
       "3        I   9.0   8.81\n",
       "4        I  11.0   8.33\n",
       "5        I  14.0   9.96\n",
       "6        I   6.0   7.24\n",
       "7        I   4.0   4.26\n",
       "8        I  12.0  10.84\n",
       "9        I   7.0   4.82\n",
       "10       I   5.0   5.68\n",
       "11      II  10.0   9.14\n",
       "12      II   8.0   8.14\n",
       "13      II  13.0   8.74\n",
       "14      II   9.0   8.77\n",
       "15      II  11.0   9.26\n",
       "16      II  14.0   8.10\n",
       "17      II   6.0   6.13\n",
       "18      II   4.0   3.10\n",
       "19      II  12.0   9.13\n",
       "20      II   7.0   7.26\n",
       "21      II   5.0   4.74\n",
       "22     III  10.0   7.46\n",
       "23     III   8.0   6.77\n",
       "24     III  13.0  12.74\n",
       "25     III   9.0   7.11\n",
       "26     III  11.0   7.81\n",
       "27     III  14.0   8.84\n",
       "28     III   6.0   6.08\n",
       "29     III   4.0   5.39\n",
       "30     III  12.0   8.15\n",
       "31     III   7.0   6.42\n",
       "32     III   5.0   5.73\n",
       "33      IV   8.0   6.58\n",
       "34      IV   8.0   5.76\n",
       "35      IV   8.0   7.71\n",
       "36      IV   8.0   8.84\n",
       "37      IV   8.0   8.47\n",
       "38      IV   8.0   7.04\n",
       "39      IV   8.0   5.25\n",
       "40      IV  19.0  12.50\n",
       "41      IV   8.0   5.56\n",
       "42      IV   8.0   7.91\n",
       "43      IV   8.0   6.89"
      ]
     },
     "execution_count": 310,
     "metadata": {},
     "output_type": "execute_result"
    }
   ],
   "source": [
    "ans"
   ]
  },
  {
   "cell_type": "code",
   "execution_count": 315,
   "metadata": {},
   "outputs": [
    {
     "data": {
      "image/png": "[encoded data removed]",
      "text/plain": [
       "<Figure size 432x288 with 1 Axes>"
      ]
     },
     "metadata": {
      "needs_background": "light"
     },
     "output_type": "display_data"
    }
   ],
   "source": [
    "ax = sns.regplot(x=\"x\", y=\"y\", data=ans.loc[ans.dataset == \"II\"],\n",
    "                 scatter_kws={\"s\": 80},\n",
    "                 order=2, ci=None)"
   ]
  },
  {
   "cell_type": "code",
   "execution_count": 327,
   "metadata": {},
   "outputs": [
    {
     "ename": "NotFittedError",
     "evalue": "This LogisticRegression instance is not fitted yet. Call 'fit' with appropriate arguments before using this estimator.",
     "output_type": "error",
     "traceback": [
      "\u001b[0;31m---------------------------------------------------------------------------\u001b[0m",
      "\u001b[0;31mNotFittedError\u001b[0m                            Traceback (most recent call last)",
      "\u001b[0;32m<ipython-input-327-06bc5b6bdfe0>\u001b[0m in \u001b[0;36m<module>\u001b[0;34m\u001b[0m\n\u001b[0;32m----> 1\u001b[0;31m \u001b[0mmodel\u001b[0m\u001b[0;34m.\u001b[0m\u001b[0mpredict_proba\u001b[0m\u001b[0;34m(\u001b[0m\u001b[0mX\u001b[0m\u001b[0;34m)\u001b[0m\u001b[0;34m\u001b[0m\u001b[0;34m\u001b[0m\u001b[0m\n\u001b[0m",
      "\u001b[0;32m~/.local/lib/python3.8/site-packages/sklearn/linear_model/_logistic.py\u001b[0m in \u001b[0;36mpredict_proba\u001b[0;34m(self, X)\u001b[0m\n\u001b[1;32m   1661\u001b[0m             \u001b[0mwhere\u001b[0m \u001b[0mclasses\u001b[0m \u001b[0mare\u001b[0m \u001b[0mordered\u001b[0m \u001b[0;32mas\u001b[0m \u001b[0mthey\u001b[0m \u001b[0mare\u001b[0m \u001b[0;32min\u001b[0m\u001b[0;31m \u001b[0m\u001b[0;31m`\u001b[0m\u001b[0;31m`\u001b[0m\u001b[0mself\u001b[0m\u001b[0;34m.\u001b[0m\u001b[0mclasses_\u001b[0m\u001b[0;31m`\u001b[0m\u001b[0;31m`\u001b[0m\u001b[0;34m.\u001b[0m\u001b[0;34m\u001b[0m\u001b[0;34m\u001b[0m\u001b[0m\n\u001b[1;32m   1662\u001b[0m         \"\"\"\n\u001b[0;32m-> 1663\u001b[0;31m         \u001b[0mcheck_is_fitted\u001b[0m\u001b[0;34m(\u001b[0m\u001b[0mself\u001b[0m\u001b[0;34m)\u001b[0m\u001b[0;34m\u001b[0m\u001b[0;34m\u001b[0m\u001b[0m\n\u001b[0m\u001b[1;32m   1664\u001b[0m \u001b[0;34m\u001b[0m\u001b[0m\n\u001b[1;32m   1665\u001b[0m         ovr = self.multi_class in [\"ovr\", \"warn\"] or (\n",
      "\u001b[0;32m~/.local/lib/python3.8/site-packages/sklearn/utils/validation.py\u001b[0m in \u001b[0;36mcheck_is_fitted\u001b[0;34m(estimator, attributes, msg, all_or_any)\u001b[0m\n\u001b[1;32m   1206\u001b[0m \u001b[0;34m\u001b[0m\u001b[0m\n\u001b[1;32m   1207\u001b[0m     \u001b[0;32mif\u001b[0m \u001b[0;32mnot\u001b[0m \u001b[0mfitted\u001b[0m\u001b[0;34m:\u001b[0m\u001b[0;34m\u001b[0m\u001b[0;34m\u001b[0m\u001b[0m\n\u001b[0;32m-> 1208\u001b[0;31m         \u001b[0;32mraise\u001b[0m \u001b[0mNotFittedError\u001b[0m\u001b[0;34m(\u001b[0m\u001b[0mmsg\u001b[0m \u001b[0;34m%\u001b[0m \u001b[0;34m{\u001b[0m\u001b[0;34m\"name\"\u001b[0m\u001b[0;34m:\u001b[0m \u001b[0mtype\u001b[0m\u001b[0;34m(\u001b[0m\u001b[0mestimator\u001b[0m\u001b[0;34m)\u001b[0m\u001b[0;34m.\u001b[0m\u001b[0m__name__\u001b[0m\u001b[0;34m}\u001b[0m\u001b[0;34m)\u001b[0m\u001b[0;34m\u001b[0m\u001b[0;34m\u001b[0m\u001b[0m\n\u001b[0m\u001b[1;32m   1209\u001b[0m \u001b[0;34m\u001b[0m\u001b[0m\n\u001b[1;32m   1210\u001b[0m \u001b[0;34m\u001b[0m\u001b[0m\n",
      "\u001b[0;31mNotFittedError\u001b[0m: This LogisticRegression instance is not fitted yet. Call 'fit' with appropriate arguments before using this estimator."
     ]
    }
   ],
   "source": []
  },
  {
   "cell_type": "code",
   "execution_count": null,
   "metadata": {},
   "outputs": [],
   "source": []
  }
 ],
 "metadata": {
  "kernelspec": {
   "display_name": "Python 3",
   "language": "python",
   "name": "python3"
  },
  "language_info": {
   "codemirror_mode": {
    "name": "ipython",
    "version": 3
   },
   "file_extension": ".py",
   "mimetype": "text/x-python",
   "name": "python",
   "nbconvert_exporter": "python",
   "pygments_lexer": "ipython3",
   "version": "3.8.10"
  }
 },
 "nbformat": 4,
 "nbformat_minor": 4
}
